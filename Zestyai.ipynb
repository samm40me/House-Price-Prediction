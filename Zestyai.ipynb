{
  "nbformat": 4,
  "nbformat_minor": 0,
  "metadata": {
    "colab": {
      "name": "Machine_Learning_Project_MS_(1) (2).ipynb",
      "provenance": [],
      "collapsed_sections": []
    },
    "kernelspec": {
      "name": "python3",
      "display_name": "Python 3"
    },
    "language_info": {
      "name": "python"
    }
  },
  "cells": [
    {
      "cell_type": "markdown",
      "metadata": {
        "id": "1T2vNQb3IcWN"
      },
      "source": [
        "A machine learning project may not be linear, but it has a number of well known steps:\n",
        "\n",
        "1. Define Problem.\n",
        "2. Prepare Data.\n",
        "3. Evaluate Algorithms.\n",
        "4. Improve Results.\n",
        "5. Present Results."
      ]
    },
    {
      "cell_type": "markdown",
      "metadata": {
        "id": "juKHWrcPUOpy"
      },
      "source": [
        "Here is an overview of the proceedure we are going to use:\n",
        "\n",
        "1. Installing the Python and SciPy platform.\n",
        "2. Loading the dataset.\n",
        "3. Summarizing the dataset.\n",
        "3. Visualizing the dataset.\n",
        "4. Evaluating some algorithms.\n",
        "5. Making some predictions."
      ]
    },
    {
      "cell_type": "markdown",
      "metadata": {
        "id": "Pq-rb0S7JXXP"
      },
      "source": [
        "# **Load Libraties, Data and Explore Data** 📚"
      ]
    },
    {
      "cell_type": "markdown",
      "metadata": {
        "id": "ROEl4FxkUk5I"
      },
      "source": [
        "**1. Install SciPy Libraries**\n",
        "\n",
        "There are 5 key libraries that you will need to install. Below is a list of the Python SciPy libraries required for this tutorial:\n",
        "\n",
        "1. scipy\n",
        "\n",
        "2. numpy\n",
        "\n",
        "3. matplotlib\n",
        "\n",
        "4. pandas\n",
        "\n",
        "5. sklearn\n"
      ]
    },
    {
      "cell_type": "code",
      "metadata": {
        "colab": {
          "base_uri": "https://localhost:8080/"
        },
        "id": "5m0eUMdeIRFr",
        "outputId": "d3d35f4b-ecd2-4907-ffed-8039e920cc4a"
      },
      "source": [
        "# Check the versions of libraries\n",
        " \n",
        "# Python version\n",
        "import sys\n",
        "print('Python: {}'.format(sys.version))\n",
        "# scipy\n",
        "import scipy\n",
        "print('scipy: {}'.format(scipy.__version__))\n",
        "# numpy\n",
        "import numpy\n",
        "print('numpy: {}'.format(numpy.__version__))\n",
        "# matplotlib\n",
        "import matplotlib\n",
        "print('matplotlib: {}'.format(matplotlib.__version__))\n",
        "# pandas\n",
        "import pandas\n",
        "print('pandas: {}'.format(pandas.__version__))\n",
        "# scikit-learn\n",
        "import sklearn\n",
        "print('sklearn: {}'.format(sklearn.__version__))\n"
      ],
      "execution_count": null,
      "outputs": [
        {
          "output_type": "stream",
          "name": "stdout",
          "text": [
            "Python: 3.7.12 (default, Sep 10 2021, 00:21:48) \n",
            "[GCC 7.5.0]\n",
            "scipy: 1.4.1\n",
            "numpy: 1.19.5\n",
            "matplotlib: 3.2.2\n",
            "pandas: 1.1.5\n",
            "sklearn: 0.22.2.post1\n"
          ]
        }
      ]
    },
    {
      "cell_type": "markdown",
      "metadata": {
        "id": "391SbXUxar_m"
      },
      "source": [
        "**2. Load The Data**"
      ]
    },
    {
      "cell_type": "markdown",
      "metadata": {
        "id": "D0T_NjTIbQrP"
      },
      "source": [
        "We are going to use the test data from Microsoft Interview. The dataset contains 748 observations. There are four columns of measurements; the first and third colums are in month, second is in times, while om the third is cc.blood. The fifth column is categorical and tells whether he/she donated blood. "
      ]
    },
    {
      "cell_type": "markdown",
      "metadata": {
        "id": "QSou9tkebq2F"
      },
      "source": [
        "**2.1 Import libraries**\n",
        "\n",
        "First, let’s import all of the modules, functions and objects we are going to use in this project."
      ]
    },
    {
      "cell_type": "code",
      "metadata": {
        "id": "VaFZSZMBbFd2"
      },
      "source": [
        "# Load libraries\n",
        "from pandas import read_csv\n",
        "from pandas.plotting import scatter_matrix\n",
        "from matplotlib import pyplot\n",
        "from sklearn.model_selection import train_test_split\n",
        "from sklearn.model_selection import cross_val_score\n",
        "from sklearn.model_selection import StratifiedKFold\n",
        "from sklearn.metrics import classification_report\n",
        "from sklearn.metrics import confusion_matrix\n",
        "from sklearn.metrics import accuracy_score\n",
        "from sklearn.linear_model import LogisticRegression\n",
        "from sklearn.tree import DecisionTreeClassifier\n",
        "from sklearn.neighbors import KNeighborsClassifier\n",
        "from sklearn.discriminant_analysis import LinearDiscriminantAnalysis\n",
        "from sklearn.naive_bayes import GaussianNB\n",
        "from sklearn.svm import SVC\n",
        "from numpy import mean\n",
        "from numpy import std\n",
        "from sklearn.experimental import enable_iterative_imputer\n",
        "from sklearn.impute import IterativeImputer\n",
        "from sklearn.model_selection import RepeatedStratifiedKFold\n",
        "from sklearn.ensemble import RandomForestClassifier\n",
        "from sklearn.pipeline import Pipeline\n",
        "%matplotlib inline"
      ],
      "execution_count": null,
      "outputs": []
    },
    {
      "cell_type": "markdown",
      "metadata": {
        "id": "W5r9fxX6d3_0"
      },
      "source": [
        "**2.2 Load Dataset**\n",
        "\n",
        "We are using pandas to load the data. We will also use pandas next to explore the data both with descriptive statistics and data visualization.\n"
      ]
    },
    {
      "cell_type": "code",
      "metadata": {
        "id": "IOTIW5Hwgd6z"
      },
      "source": [
        "# Load dataset\n",
        "data = \"/content/test_data.csv\"\n",
        "dataset = read_csv(data)"
      ],
      "execution_count": null,
      "outputs": []
    },
    {
      "cell_type": "markdown",
      "metadata": {
        "id": "evpCLVz1gXd9"
      },
      "source": [
        "**3. Summarize the Dataset**\n",
        "\n",
        "In this step we are going to take a look at the data a few different ways:\n",
        "\n",
        "1. Dimensions of the dataset.\n",
        "2. Peek at the data itself.\n",
        "3. Statistical summary of all attributes.\n",
        "4. Breakdown of the data by the class variable."
      ]
    },
    {
      "cell_type": "code",
      "metadata": {
        "colab": {
          "base_uri": "https://localhost:8080/",
          "height": 417
        },
        "id": "o29eA23TivO6",
        "outputId": "96411a48-bcff-4b2d-914e-05b373c2aafb"
      },
      "source": [
        "dataset"
      ],
      "execution_count": null,
      "outputs": [
        {
          "output_type": "execute_result",
          "data": {
            "text/html": [
              "<div>\n",
              "<style scoped>\n",
              "    .dataframe tbody tr th:only-of-type {\n",
              "        vertical-align: middle;\n",
              "    }\n",
              "\n",
              "    .dataframe tbody tr th {\n",
              "        vertical-align: top;\n",
              "    }\n",
              "\n",
              "    .dataframe thead th {\n",
              "        text-align: right;\n",
              "    }\n",
              "</style>\n",
              "<table border=\"1\" class=\"dataframe\">\n",
              "  <thead>\n",
              "    <tr style=\"text-align: right;\">\n",
              "      <th></th>\n",
              "      <th>Recency (months)</th>\n",
              "      <th>Frequency (times)</th>\n",
              "      <th>Monetary (c.c. blood)</th>\n",
              "      <th>Time (months)</th>\n",
              "      <th>whether he/she donated blood in March 2007</th>\n",
              "    </tr>\n",
              "  </thead>\n",
              "  <tbody>\n",
              "    <tr>\n",
              "      <th>0</th>\n",
              "      <td>2.0</td>\n",
              "      <td>50.0</td>\n",
              "      <td>12500.0</td>\n",
              "      <td>98.0</td>\n",
              "      <td>1</td>\n",
              "    </tr>\n",
              "    <tr>\n",
              "      <th>1</th>\n",
              "      <td>0.0</td>\n",
              "      <td>13.0</td>\n",
              "      <td>3250.0</td>\n",
              "      <td>28.0</td>\n",
              "      <td>1</td>\n",
              "    </tr>\n",
              "    <tr>\n",
              "      <th>2</th>\n",
              "      <td>1.0</td>\n",
              "      <td>16.0</td>\n",
              "      <td>4000.0</td>\n",
              "      <td>35.0</td>\n",
              "      <td>1</td>\n",
              "    </tr>\n",
              "    <tr>\n",
              "      <th>3</th>\n",
              "      <td>2.0</td>\n",
              "      <td>20.0</td>\n",
              "      <td>5000.0</td>\n",
              "      <td>45.0</td>\n",
              "      <td>1</td>\n",
              "    </tr>\n",
              "    <tr>\n",
              "      <th>4</th>\n",
              "      <td>NaN</td>\n",
              "      <td>24.0</td>\n",
              "      <td>6000.0</td>\n",
              "      <td>77.0</td>\n",
              "      <td>0</td>\n",
              "    </tr>\n",
              "    <tr>\n",
              "      <th>...</th>\n",
              "      <td>...</td>\n",
              "      <td>...</td>\n",
              "      <td>...</td>\n",
              "      <td>...</td>\n",
              "      <td>...</td>\n",
              "    </tr>\n",
              "    <tr>\n",
              "      <th>743</th>\n",
              "      <td>23.0</td>\n",
              "      <td>2.0</td>\n",
              "      <td>500.0</td>\n",
              "      <td>38.0</td>\n",
              "      <td>0</td>\n",
              "    </tr>\n",
              "    <tr>\n",
              "      <th>744</th>\n",
              "      <td>21.0</td>\n",
              "      <td>2.0</td>\n",
              "      <td>500.0</td>\n",
              "      <td>52.0</td>\n",
              "      <td>0</td>\n",
              "    </tr>\n",
              "    <tr>\n",
              "      <th>745</th>\n",
              "      <td>23.0</td>\n",
              "      <td>3.0</td>\n",
              "      <td>750.0</td>\n",
              "      <td>62.0</td>\n",
              "      <td>0</td>\n",
              "    </tr>\n",
              "    <tr>\n",
              "      <th>746</th>\n",
              "      <td>39.0</td>\n",
              "      <td>1.0</td>\n",
              "      <td>250.0</td>\n",
              "      <td>39.0</td>\n",
              "      <td>0</td>\n",
              "    </tr>\n",
              "    <tr>\n",
              "      <th>747</th>\n",
              "      <td>72.0</td>\n",
              "      <td>1.0</td>\n",
              "      <td>NaN</td>\n",
              "      <td>72.0</td>\n",
              "      <td>0</td>\n",
              "    </tr>\n",
              "  </tbody>\n",
              "</table>\n",
              "<p>748 rows × 5 columns</p>\n",
              "</div>"
            ],
            "text/plain": [
              "     Recency (months)  ...  whether he/she donated blood in March 2007\n",
              "0                 2.0  ...                                           1\n",
              "1                 0.0  ...                                           1\n",
              "2                 1.0  ...                                           1\n",
              "3                 2.0  ...                                           1\n",
              "4                 NaN  ...                                           0\n",
              "..                ...  ...                                         ...\n",
              "743              23.0  ...                                           0\n",
              "744              21.0  ...                                           0\n",
              "745              23.0  ...                                           0\n",
              "746              39.0  ...                                           0\n",
              "747              72.0  ...                                           0\n",
              "\n",
              "[748 rows x 5 columns]"
            ]
          },
          "metadata": {},
          "execution_count": 38
        }
      ]
    },
    {
      "cell_type": "markdown",
      "metadata": {
        "id": "_vMYt1jVh83U"
      },
      "source": [
        "**3.1 Dimensions of Dataset**\n",
        "\n",
        "We can get a quick idea of how many instances (rows) and how many attributes (columns) the data contains with the shape property."
      ]
    },
    {
      "cell_type": "code",
      "metadata": {
        "colab": {
          "base_uri": "https://localhost:8080/"
        },
        "id": "oO5_jiVnh6iT",
        "outputId": "df649323-222a-43a0-d81c-8b5895edeae2"
      },
      "source": [
        "...\n",
        "# shape\n",
        "print(\"Shape of the data = \", dataset.shape)"
      ],
      "execution_count": null,
      "outputs": [
        {
          "output_type": "stream",
          "name": "stdout",
          "text": [
            "Shape of the data =  (748, 5)\n"
          ]
        }
      ]
    },
    {
      "cell_type": "markdown",
      "metadata": {
        "id": "bWf3Jj4Ji8my"
      },
      "source": [
        "**3.2 Peek at the Data**\n",
        "\n",
        "It is also always a good idea to actually eyeball your data."
      ]
    },
    {
      "cell_type": "markdown",
      "metadata": {
        "id": "orCD558Zvcxz"
      },
      "source": [
        "Finding whether we have null values in the data is by using the isnull() function"
      ]
    },
    {
      "cell_type": "code",
      "metadata": {
        "colab": {
          "base_uri": "https://localhost:8080/"
        },
        "id": "x3SrK-tmjI9P",
        "outputId": "c711f8c4-1937-44a7-9d0a-6f93b1b748e6"
      },
      "source": [
        "...\n",
        "# info\n",
        "print(\"Information about data: \\n\") \n",
        "print(\"=============================================\") \n",
        "dataset.info()"
      ],
      "execution_count": null,
      "outputs": [
        {
          "output_type": "stream",
          "name": "stdout",
          "text": [
            "Information about data: \n",
            "\n",
            "=============================================\n",
            "<class 'pandas.core.frame.DataFrame'>\n",
            "RangeIndex: 748 entries, 0 to 747\n",
            "Data columns (total 5 columns):\n",
            " #   Column                                      Non-Null Count  Dtype  \n",
            "---  ------                                      --------------  -----  \n",
            " 0   Recency (months)                            706 non-null    float64\n",
            " 1   Frequency (times)                           715 non-null    float64\n",
            " 2   Monetary (c.c. blood)                       707 non-null    float64\n",
            " 3   Time (months)                               714 non-null    float64\n",
            " 4   whether he/she donated blood in March 2007  748 non-null    int64  \n",
            "dtypes: float64(4), int64(1)\n",
            "memory usage: 29.3 KB\n"
          ]
        }
      ]
    },
    {
      "cell_type": "code",
      "metadata": {
        "colab": {
          "base_uri": "https://localhost:8080/"
        },
        "id": "pcG9MVrDvcAw",
        "outputId": "b229d697-1259-4621-8097-6b1ecd347a20"
      },
      "source": [
        "# print total number of null cells\n",
        "print(\"Total number of missing value per attribute: \\n\") \n",
        "print(\"=============================================\") \n",
        "print(dataset.isnull().sum())"
      ],
      "execution_count": null,
      "outputs": [
        {
          "output_type": "stream",
          "name": "stdout",
          "text": [
            "Total number of missing value per attribute: \n",
            "\n",
            "=============================================\n",
            "Recency (months)                              42\n",
            "Frequency (times)                             33\n",
            "Monetary (c.c. blood)                         41\n",
            "Time (months)                                 34\n",
            "whether he/she donated blood in March 2007     0\n",
            "dtype: int64\n"
          ]
        }
      ]
    },
    {
      "cell_type": "markdown",
      "metadata": {
        "id": "rbaieKc2ltmy"
      },
      "source": [
        "**3.3 Statistical Summary**\n",
        "\n",
        "Now we can take a look at a summary of each attribute.\n",
        "\n",
        "This includes the count, mean, the min and max values as well as some percentiles."
      ]
    },
    {
      "cell_type": "code",
      "metadata": {
        "colab": {
          "base_uri": "https://localhost:8080/",
          "height": 295
        },
        "id": "jXHUh3rblyj6",
        "outputId": "b194177f-863a-4257-9bd3-7ec82c8a38da"
      },
      "source": [
        "...\n",
        "# descriptions\n",
        "dataset.describe()"
      ],
      "execution_count": null,
      "outputs": [
        {
          "output_type": "execute_result",
          "data": {
            "text/html": [
              "<div>\n",
              "<style scoped>\n",
              "    .dataframe tbody tr th:only-of-type {\n",
              "        vertical-align: middle;\n",
              "    }\n",
              "\n",
              "    .dataframe tbody tr th {\n",
              "        vertical-align: top;\n",
              "    }\n",
              "\n",
              "    .dataframe thead th {\n",
              "        text-align: right;\n",
              "    }\n",
              "</style>\n",
              "<table border=\"1\" class=\"dataframe\">\n",
              "  <thead>\n",
              "    <tr style=\"text-align: right;\">\n",
              "      <th></th>\n",
              "      <th>Recency (months)</th>\n",
              "      <th>Frequency (times)</th>\n",
              "      <th>Monetary (c.c. blood)</th>\n",
              "      <th>Time (months)</th>\n",
              "      <th>whether he/she donated blood in March 2007</th>\n",
              "    </tr>\n",
              "  </thead>\n",
              "  <tbody>\n",
              "    <tr>\n",
              "      <th>count</th>\n",
              "      <td>706.000000</td>\n",
              "      <td>715.000000</td>\n",
              "      <td>707.000000</td>\n",
              "      <td>714.000000</td>\n",
              "      <td>748.000000</td>\n",
              "    </tr>\n",
              "    <tr>\n",
              "      <th>mean</th>\n",
              "      <td>9.565156</td>\n",
              "      <td>5.538462</td>\n",
              "      <td>1382.956153</td>\n",
              "      <td>34.295518</td>\n",
              "      <td>0.237968</td>\n",
              "    </tr>\n",
              "    <tr>\n",
              "      <th>std</th>\n",
              "      <td>8.184183</td>\n",
              "      <td>5.920303</td>\n",
              "      <td>1479.858696</td>\n",
              "      <td>24.328244</td>\n",
              "      <td>0.426124</td>\n",
              "    </tr>\n",
              "    <tr>\n",
              "      <th>min</th>\n",
              "      <td>0.000000</td>\n",
              "      <td>1.000000</td>\n",
              "      <td>250.000000</td>\n",
              "      <td>2.000000</td>\n",
              "      <td>0.000000</td>\n",
              "    </tr>\n",
              "    <tr>\n",
              "      <th>25%</th>\n",
              "      <td>3.000000</td>\n",
              "      <td>2.000000</td>\n",
              "      <td>500.000000</td>\n",
              "      <td>16.000000</td>\n",
              "      <td>0.000000</td>\n",
              "    </tr>\n",
              "    <tr>\n",
              "      <th>50%</th>\n",
              "      <td>7.000000</td>\n",
              "      <td>4.000000</td>\n",
              "      <td>1000.000000</td>\n",
              "      <td>28.000000</td>\n",
              "      <td>0.000000</td>\n",
              "    </tr>\n",
              "    <tr>\n",
              "      <th>75%</th>\n",
              "      <td>14.000000</td>\n",
              "      <td>7.000000</td>\n",
              "      <td>1750.000000</td>\n",
              "      <td>50.000000</td>\n",
              "      <td>0.000000</td>\n",
              "    </tr>\n",
              "    <tr>\n",
              "      <th>max</th>\n",
              "      <td>74.000000</td>\n",
              "      <td>50.000000</td>\n",
              "      <td>12500.000000</td>\n",
              "      <td>98.000000</td>\n",
              "      <td>1.000000</td>\n",
              "    </tr>\n",
              "  </tbody>\n",
              "</table>\n",
              "</div>"
            ],
            "text/plain": [
              "       Recency (months)  ...  whether he/she donated blood in March 2007\n",
              "count        706.000000  ...                                  748.000000\n",
              "mean           9.565156  ...                                    0.237968\n",
              "std            8.184183  ...                                    0.426124\n",
              "min            0.000000  ...                                    0.000000\n",
              "25%            3.000000  ...                                    0.000000\n",
              "50%            7.000000  ...                                    0.000000\n",
              "75%           14.000000  ...                                    0.000000\n",
              "max           74.000000  ...                                    1.000000\n",
              "\n",
              "[8 rows x 5 columns]"
            ]
          },
          "metadata": {},
          "execution_count": 42
        }
      ]
    },
    {
      "cell_type": "markdown",
      "metadata": {
        "id": "j0gkxzpHmBpj"
      },
      "source": [
        "We can see that all of the numerical values have the same scale (centimeters) and similar ranges between 0 and 8 centimeters."
      ]
    },
    {
      "cell_type": "markdown",
      "metadata": {
        "id": "tei-VO3qRJeq"
      },
      "source": [
        "# **Exploratory data analysis** 📚"
      ]
    },
    {
      "cell_type": "code",
      "metadata": {
        "id": "ZH3bcKxjb9RC"
      },
      "source": [
        "import numpy as np  \n",
        "import seaborn as sns \n",
        "import matplotlib.pyplot as plt "
      ],
      "execution_count": null,
      "outputs": []
    },
    {
      "cell_type": "markdown",
      "metadata": {
        "id": "I7NeKzlmmE6y"
      },
      "source": [
        "**Class Distribution**\n",
        "\n",
        "Let’s now take a look at the number of instances (rows) that belong to each class. We can view this as an absolute count."
      ]
    },
    {
      "cell_type": "code",
      "metadata": {
        "colab": {
          "base_uri": "https://localhost:8080/"
        },
        "id": "YBXlSbLwmPG6",
        "outputId": "8ece591b-faf0-4de2-8874-b6f4bff71ee1"
      },
      "source": [
        "...\n",
        "# class distribution\n",
        "print(dataset.groupby('whether he/she donated blood in March 2007').size())"
      ],
      "execution_count": null,
      "outputs": [
        {
          "output_type": "stream",
          "name": "stdout",
          "text": [
            "whether he/she donated blood in March 2007\n",
            "0    570\n",
            "1    178\n",
            "dtype: int64\n"
          ]
        }
      ]
    },
    {
      "cell_type": "code",
      "metadata": {
        "colab": {
          "base_uri": "https://localhost:8080/",
          "height": 282
        },
        "id": "2_KGWYHGYTSB",
        "outputId": "7174b04e-4a58-4ddf-9c7d-8f1ba1ce7132"
      },
      "source": [
        "# seeing the distribution of classes, this will help us to identify which types \n",
        "\n",
        "dataset = dataset.rename(columns={'whether he/she donated blood in March 2007': 'donate_or_not'})\n",
        "donate_blood = len(dataset[\"donate_or_not\"][dataset.donate_or_not == 0])\n",
        "do_not_donate_blood = len(dataset[\"donate_or_not\"][dataset.donate_or_not == 1])\n",
        "\n",
        "arr = numpy.array([donate_blood , do_not_donate_blood]) \n",
        "labels = ['Donate', 'Did not donate'] \n",
        "print(\"Total No. Of peopel that donated blood: \", donate_blood)\n",
        "print(\"Total No. Of people that did not donate blood: \", do_not_donate_blood)\n",
        "\n",
        "pyplot.pie(arr, labels=labels, explode = [0.2,0.0] , shadow=True) \n",
        "pyplot.show() \n",
        "\n",
        "# inference :- we are actually working on imbalance data  \n",
        "# imbalance:- your data is not equally distributed between classes "
      ],
      "execution_count": null,
      "outputs": [
        {
          "output_type": "stream",
          "name": "stdout",
          "text": [
            "Total No. Of peopel that donated blood:  570\n",
            "Total No. Of people that did not donate blood:  178\n"
          ]
        },
        {
          "output_type": "display_data",
          "data": {
            "image/png": "[encoded data removed]",
            "text/plain": [
              "<Figure size 432x288 with 1 Axes>"
            ]
          },
          "metadata": {}
        }
      ]
    },
    {
      "cell_type": "markdown",
      "metadata": {
        "id": "6en6yVXvmqcp"
      },
      "source": [
        "We can see that each class has the same number of instances (50 or 33% of the dataset). inference is the we are actually working on imbalance data. imbalanc is when the data is not equally distributed between classes "
      ]
    },
    {
      "cell_type": "markdown",
      "metadata": {
        "id": "FSmbvBjunVbJ"
      },
      "source": [
        "**4. Data Visualization**\n",
        "\n",
        "We now have a basic idea about the data. We need to extend that with some visualizations.\n",
        "\n",
        "We are going to look at two types of plots:\n",
        "\n",
        "Univariate plots to better understand each attribute.\n",
        "Multivariate plots to better understand the relationships between attributes."
      ]
    },
    {
      "cell_type": "markdown",
      "metadata": {
        "id": "GJ4cCSUCnvAR"
      },
      "source": [
        "**4.1 Univariate Plots**\n",
        "\n",
        "We start with some univariate plots, that is, plots of each individual variable.\n",
        "\n",
        "Given that the input variables are numeric, we can create box and whisker plots of each."
      ]
    },
    {
      "cell_type": "markdown",
      "metadata": {
        "id": "f2nvuJOoofbo"
      },
      "source": [
        "This gives us a much clearer idea of the distribution of the input attributes:"
      ]
    },
    {
      "cell_type": "code",
      "metadata": {
        "colab": {
          "base_uri": "https://localhost:8080/",
          "height": 833
        },
        "id": "GnbTFK0AnyEa",
        "outputId": "a7813d00-2a47-4bdf-ac1b-e9d38d70ed77"
      },
      "source": [
        "...\n",
        "# box and whisker plots\n",
        "dataset.plot(kind='box', subplots=True, layout=(2,3), sharex=False, sharey=False, figsize=(20,15))\n",
        "pyplot.show()"
      ],
      "execution_count": null,
      "outputs": [
        {
          "output_type": "display_data",
          "data": {
            "image/png": "[encoded data removed]",
            "text/plain": [
              "<Figure size 1440x1080 with 6 Axes>"
            ]
          },
          "metadata": {
            "needs_background": "light"
          }
        }
      ]
    },
    {
      "cell_type": "markdown",
      "metadata": {
        "id": "pZgniA2koX_g"
      },
      "source": [
        "We can also create a histogram of each input variable to get an idea of the distribution."
      ]
    },
    {
      "cell_type": "code",
      "metadata": {
        "colab": {
          "base_uri": "https://localhost:8080/",
          "height": 847
        },
        "id": "zPVjdIxSolK5",
        "outputId": "d7649c19-3a1a-4793-ece9-a8ac325bac61"
      },
      "source": [
        "...\n",
        "# histograms\n",
        "dataset.hist(bins = 50, figsize=(20, 15))\n",
        "pyplot.show()"
      ],
      "execution_count": null,
      "outputs": [
        {
          "output_type": "display_data",
          "data": {
            "image/png": "[encoded data removed]",
            "text/plain": [
              "<Figure size 1440x1080 with 6 Axes>"
            ]
          },
          "metadata": {
            "needs_background": "light"
          }
        }
      ]
    },
    {
      "cell_type": "markdown",
      "metadata": {
        "id": "i91cqSAwsMvY"
      },
      "source": [
        "It looks like perhaps two of the input variables have a Gaussian distribution. This is useful to note as we can use algorithms that can exploit this assumption."
      ]
    },
    {
      "cell_type": "markdown",
      "metadata": {
        "id": "G8tfauwJsThX"
      },
      "source": [
        "**4.2 Multivariate Plots**\n",
        "\n",
        "Now we can look at the interactions between the variables.\n",
        "\n",
        "First, let’s look at scatterplots of all pairs of attributes. This can be helpful to spot structured relationships between input variables."
      ]
    },
    {
      "cell_type": "code",
      "metadata": {
        "colab": {
          "base_uri": "https://localhost:8080/",
          "height": 621
        },
        "id": "B5PQmyydsN3o",
        "outputId": "6803cfb8-d3f0-49c1-8fa4-261730194978"
      },
      "source": [
        "...\n",
        "# scatter plot matrix\n",
        "scatter_matrix(dataset, figsize=(15,10))\n",
        "pyplot.show()"
      ],
      "execution_count": null,
      "outputs": [
        {
          "output_type": "display_data",
          "data": {
            "image/png": "[encoded data removed]",
            "text/plain": [
              "<Figure size 1080x720 with 25 Axes>"
            ]
          },
          "metadata": {
            "needs_background": "light"
          }
        }
      ]
    },
    {
      "cell_type": "markdown",
      "metadata": {
        "id": "gXatRIAZvZZI"
      },
      "source": [
        "Note the diagonal grouping of some pairs of attributes. This suggests a high correlation and a predictable relationship."
      ]
    },
    {
      "cell_type": "code",
      "metadata": {
        "colab": {
          "base_uri": "https://localhost:8080/",
          "height": 637
        },
        "id": "REbNZc63dnaY",
        "outputId": "fbc18dc3-d9f1-480e-a754-b2f53216f2e6"
      },
      "source": [
        "import seaborn as sns\n",
        "from matplotlib import gridspec\n",
        "# Correlation matrix\n",
        "corrmat = dataset.corr()\n",
        "fig = pyplot.figure(figsize = (12, 9))\n",
        "sns.heatmap(corrmat, vmax = .8, square = True)\n",
        "pyplot.show()"
      ],
      "execution_count": null,
      "outputs": [
        {
          "output_type": "display_data",
          "data": {
            "image/png": "[encoded data removed]",
            "text/plain": [
              "<Figure size 864x648 with 2 Axes>"
            ]
          },
          "metadata": {
            "needs_background": "light"
          }
        }
      ]
    },
    {
      "cell_type": "markdown",
      "metadata": {
        "id": "XY3q-xMDenq6"
      },
      "source": [
        "# **Dataset development**📚"
      ]
    },
    {
      "cell_type": "markdown",
      "metadata": {
        "id": "9zLbQgh8-8I0"
      },
      "source": [
        "**Prepare For Modeling by Pre-Processing Data**\n",
        "\n",
        "There are many techniques that you can use to prepare your data for modeling. For example, try out some of the following\n",
        "\n",
        "1. Standardize numerical data (e.g. mean of 0 and standard deviation of 1) using the scale and center options.\n",
        "2. Normalize numerical data (e.g. to a range of 0-1) using the range option.\n",
        "3. Explore more advanced feature engineering such as Binarizing. For example, the snippet below loads the Pima Indians onset of diabetes dataset, calculates the parameters needed to standardize the data, then creates a standardized copy of the input data.\n"
      ]
    },
    {
      "cell_type": "markdown",
      "metadata": {
        "id": "l7NP7bzywIOd"
      },
      "source": [
        "**Filling the Missing Values – Imputation**\n",
        "\n",
        "In this case, we will be filling the missing values with a certain number.\n",
        "\n",
        "The possible ways to do this are:\n",
        "\n",
        "1. Filling the missing data with the mean or median value if it’s a numerical variable.\n",
        "2. Filling the missing data with mode if it’s a categorical value.\n",
        "3. Filling the numerical value with 0 or -999, or some other number that will not occur in the data. This can be done so that the machine can recognize that the data is not real or is different.\n",
        "4. Filling the categorical value with a new type for the missing values.\n",
        "You can use the fillna() function to fill the null values in the dataset."
      ]
    },
    {
      "cell_type": "code",
      "metadata": {
        "id": "LONeL1eGNr7j",
        "colab": {
          "base_uri": "https://localhost:8080/"
        },
        "outputId": "e8e00787-34d6-4e64-cb25-39528be5135d"
      },
      "source": [
        "# import the KNNimputer class\n",
        "from sklearn.impute import KNNImputer\n",
        "#from fancyimpute import IterativeImputer\n",
        "from sklearn.experimental import enable_iterative_imputer\n",
        "from sklearn.impute import IterativeImputer\n",
        "\n",
        "# create an object for KNNImputer\n",
        "#imputer = KNNImputer(n_neighbors=2)\n",
        "# calling the  MICE class\n",
        "#mice_imputer = IterativeImputer()\n",
        "imp = IterativeImputer(max_iter=10, random_state=0)\n",
        "\n",
        "#dataset1 = imputer.fit_transform(dataset)\n",
        "dataset = imp.fit_transform(dataset)\n",
        "\n",
        "dataset"
      ],
      "execution_count": null,
      "outputs": [
        {
          "output_type": "execute_result",
          "data": {
            "text/plain": [
              "array([[2.0000000e+00, 5.0000000e+01, 1.2500000e+04, 9.8000000e+01,\n",
              "        1.0000000e+00],\n",
              "       [0.0000000e+00, 1.3000000e+01, 3.2500000e+03, 2.8000000e+01,\n",
              "        1.0000000e+00],\n",
              "       [1.0000000e+00, 1.6000000e+01, 4.0000000e+03, 3.5000000e+01,\n",
              "        1.0000000e+00],\n",
              "       ...,\n",
              "       [2.3000000e+01, 3.0000000e+00, 7.5000000e+02, 6.2000000e+01,\n",
              "        0.0000000e+00],\n",
              "       [3.9000000e+01, 1.0000000e+00, 2.5000000e+02, 3.9000000e+01,\n",
              "        0.0000000e+00],\n",
              "       [7.2000000e+01, 1.0000000e+00, 2.5004861e+02, 7.2000000e+01,\n",
              "        0.0000000e+00]])"
            ]
          },
          "metadata": {},
          "execution_count": 50
        }
      ]
    },
    {
      "cell_type": "code",
      "metadata": {
        "id": "TprtUG1gzpyP",
        "colab": {
          "base_uri": "https://localhost:8080/"
        },
        "outputId": "c89e17a9-09e2-4a98-f942-b249c17573d4"
      },
      "source": [
        "# Split-out validation dataset\n",
        "#array = dataset.values\n",
        "#X = array[:,0:4]\n",
        "#y = array[:,4]\n",
        "X = dataset[:,0:4]\n",
        "y = dataset[:,4]\n",
        "X, y"
      ],
      "execution_count": null,
      "outputs": [
        {
          "output_type": "execute_result",
          "data": {
            "text/plain": [
              "(array([[2.0000000e+00, 5.0000000e+01, 1.2500000e+04, 9.8000000e+01],\n",
              "        [0.0000000e+00, 1.3000000e+01, 3.2500000e+03, 2.8000000e+01],\n",
              "        [1.0000000e+00, 1.6000000e+01, 4.0000000e+03, 3.5000000e+01],\n",
              "        ...,\n",
              "        [2.3000000e+01, 3.0000000e+00, 7.5000000e+02, 6.2000000e+01],\n",
              "        [3.9000000e+01, 1.0000000e+00, 2.5000000e+02, 3.9000000e+01],\n",
              "        [7.2000000e+01, 1.0000000e+00, 2.5004861e+02, 7.2000000e+01]]),\n",
              " array([1., 1., 1., 1., 0., 0., 1., 0., 1., 1., 0., 0., 1., 0., 1., 1., 1.,\n",
              "        1., 1., 1., 1., 0., 1., 1., 0., 0., 0., 1., 1., 0., 0., 1., 1., 1.,\n",
              "        0., 1., 1., 1., 1., 1., 1., 0., 1., 0., 1., 1., 0., 0., 0., 0., 0.,\n",
              "        1., 0., 0., 1., 1., 1., 1., 0., 0., 0., 1., 0., 1., 1., 0., 1., 0.,\n",
              "        0., 0., 0., 0., 1., 0., 1., 1., 1., 0., 0., 0., 1., 0., 0., 0., 1.,\n",
              "        0., 0., 0., 0., 1., 1., 0., 0., 0., 0., 0., 0., 1., 1., 1., 1., 1.,\n",
              "        0., 0., 0., 0., 0., 0., 0., 0., 1., 0., 0., 1., 0., 0., 1., 0., 0.,\n",
              "        1., 1., 1., 1., 1., 0., 0., 1., 0., 1., 1., 0., 0., 0., 0., 0., 0.,\n",
              "        0., 0., 0., 0., 0., 0., 0., 0., 1., 1., 0., 0., 1., 0., 1., 0., 0.,\n",
              "        1., 0., 0., 0., 0., 0., 0., 0., 0., 0., 1., 1., 1., 0., 0., 0., 0.,\n",
              "        0., 0., 0., 0., 0., 0., 1., 1., 1., 0., 1., 0., 0., 0., 0., 0., 0.,\n",
              "        0., 0., 1., 0., 0., 0., 0., 0., 1., 1., 0., 0., 0., 0., 0., 1., 0.,\n",
              "        0., 0., 0., 0., 0., 0., 0., 0., 0., 0., 0., 1., 0., 0., 0., 0., 0.,\n",
              "        1., 1., 0., 1., 1., 0., 0., 0., 0., 0., 1., 0., 0., 0., 0., 0., 0.,\n",
              "        0., 0., 1., 0., 1., 1., 0., 0., 0., 0., 0., 0., 0., 0., 1., 1., 0.,\n",
              "        0., 0., 0., 0., 0., 0., 1., 0., 1., 0., 1., 0., 0., 0., 0., 0., 0.,\n",
              "        0., 0., 0., 0., 0., 0., 0., 0., 0., 1., 0., 0., 0., 0., 0., 1., 1.,\n",
              "        1., 1., 0., 0., 0., 0., 0., 0., 0., 0., 0., 0., 0., 0., 0., 0., 1.,\n",
              "        0., 0., 0., 0., 0., 0., 0., 0., 0., 0., 0., 0., 1., 0., 0., 1., 0.,\n",
              "        1., 0., 0., 0., 0., 1., 0., 0., 0., 1., 1., 0., 1., 0., 0., 1., 0.,\n",
              "        0., 0., 0., 0., 0., 0., 0., 0., 0., 0., 0., 0., 0., 0., 0., 0., 0.,\n",
              "        0., 0., 0., 0., 0., 0., 0., 0., 1., 0., 0., 0., 1., 1., 0., 0., 0.,\n",
              "        0., 1., 0., 0., 0., 0., 0., 0., 0., 0., 0., 0., 0., 0., 0., 0., 0.,\n",
              "        0., 0., 0., 0., 0., 1., 0., 0., 1., 0., 0., 0., 0., 0., 0., 0., 0.,\n",
              "        0., 0., 0., 0., 0., 0., 0., 0., 0., 0., 0., 0., 0., 0., 0., 0., 0.,\n",
              "        0., 0., 0., 0., 0., 0., 0., 1., 0., 0., 0., 0., 0., 0., 0., 0., 0.,\n",
              "        0., 0., 0., 0., 0., 0., 0., 0., 0., 0., 0., 0., 0., 0., 0., 0., 0.,\n",
              "        0., 0., 0., 1., 0., 0., 0., 0., 0., 1., 0., 0., 0., 0., 0., 0., 1.,\n",
              "        0., 0., 0., 0., 0., 0., 0., 0., 0., 0., 0., 0., 0., 0., 0., 0., 0.,\n",
              "        0., 0., 0., 0., 0., 0., 0., 1., 1., 1., 0., 1., 1., 1., 0., 1., 1.,\n",
              "        1., 0., 0., 0., 1., 0., 1., 1., 1., 1., 1., 1., 1., 1., 0., 0., 1.,\n",
              "        0., 0., 1., 1., 1., 0., 0., 0., 1., 1., 1., 1., 1., 1., 0., 1., 1.,\n",
              "        0., 1., 0., 0., 1., 1., 0., 1., 1., 0., 0., 0., 0., 0., 0., 0., 1.,\n",
              "        0., 1., 0., 0., 0., 0., 0., 1., 0., 0., 0., 1., 0., 1., 1., 1., 0.,\n",
              "        0., 0., 0., 1., 0., 0., 0., 0., 1., 0., 0., 0., 0., 0., 0., 1., 0.,\n",
              "        0., 1., 0., 0., 0., 0., 0., 0., 0., 0., 0., 0., 0., 0., 0., 0., 0.,\n",
              "        1., 0., 0., 0., 0., 0., 1., 0., 0., 0., 1., 0., 1., 0., 0., 0., 0.,\n",
              "        0., 0., 0., 0., 0., 0., 0., 0., 0., 0., 1., 1., 0., 0., 0., 1., 0.,\n",
              "        0., 0., 0., 0., 0., 0., 0., 0., 0., 0., 0., 0., 0., 0., 0., 0., 0.,\n",
              "        0., 0., 0., 0., 1., 0., 1., 0., 0., 0., 0., 0., 0., 0., 0., 0., 0.,\n",
              "        1., 0., 0., 0., 0., 0., 0., 0., 0., 0., 0., 0., 0., 0., 0., 1., 0.,\n",
              "        0., 0., 0., 0., 0., 0., 0., 0., 0., 0., 0., 1., 0., 0., 0., 1., 0.,\n",
              "        0., 0., 0., 0., 0., 0., 0., 0., 0., 0., 0., 0., 0., 0., 0., 0., 0.,\n",
              "        0., 1., 0., 0., 0., 0., 0., 0., 0., 0., 0., 0., 0., 0., 0., 0., 0.]))"
            ]
          },
          "metadata": {},
          "execution_count": 51
        }
      ]
    },
    {
      "cell_type": "markdown",
      "metadata": {
        "id": "_qxo1cLM5woV"
      },
      "source": [
        "**Rescale Data**\n",
        "\n",
        "1. When our data is comprised of attributes with varying scales, many machine learning algorithms can benefit from rescaling the attributes to all have the same scale.\n",
        "2. This is useful for optimization algorithms in used in the core of machine learning algorithms like gradient descent.\n",
        "3. It is also useful for algorithms that weight inputs like regression and neural networks and algorithms that use distance measures like K-Nearest Neighbors.\n",
        "4. We can rescale your data using scikit-learn using the MinMaxScaler class.\n",
        "Code: \n",
        "\n",
        "Python code to Rescale data (between 0 and 1)  "
      ]
    },
    {
      "cell_type": "code",
      "metadata": {
        "id": "kL6bCuT-wkkb",
        "colab": {
          "base_uri": "https://localhost:8080/"
        },
        "outputId": "b2682c50-3647-4769-e907-126d47b860ea"
      },
      "source": [
        "# importing libraries\n",
        "#from sklearn.preprocessing import MinMaxScaler\n",
        "from sklearn.preprocessing import StandardScaler\n",
        "\n",
        "# initialising the MinMaxScaler\n",
        "#scaler = MinMaxScaler(feature_range=(0, 1))\n",
        "\n",
        "# learning the statistical parameters for each of the data and transforming\n",
        "#rescaledX = scaler.fit_transform(X)\n",
        "scaler = StandardScaler().fit(X)\n",
        "rescaledX = scaler.transform(X)\n",
        "\n",
        "# summarize transformed data\n",
        "#numpy.set_printoptions(precision=3)\n",
        "print(rescaledX[0:5,:])"
      ],
      "execution_count": null,
      "outputs": [
        {
          "output_type": "stream",
          "name": "stdout",
          "text": [
            "[[-0.94787193  7.62366523  7.62367909  2.65352929]\n",
            " [-1.19861415  1.2822838   1.28228474 -0.26485151]\n",
            " [-1.07324304  1.79644986  1.79645185  0.02698657]\n",
            " [-0.94787193  2.48200461  2.482008    0.44389811]\n",
            " [-0.49995932  3.16755936  3.16756414  1.77801505]]\n"
          ]
        }
      ]
    },
    {
      "cell_type": "markdown",
      "metadata": {
        "id": "S3ACa--kfErY"
      },
      "source": [
        "# **Feature Engineering** 📚"
      ]
    },
    {
      "cell_type": "markdown",
      "metadata": {
        "id": "0t7s8e_p2nck"
      },
      "source": [
        "# **Model Building** 📚"
      ]
    },
    {
      "cell_type": "markdown",
      "metadata": {
        "id": "IqpTvj6J_bX8"
      },
      "source": [
        "**Algorithm Evaluation Metrics**\n",
        "\n",
        "1. Practice using the Accuracy and LogLoss metrics on a classification problem.\n",
        "2. ractice generating a confusion matrix and a classification report.\n",
        "3. Practice using RMSE and RSquared metrics on a regression problem.\n",
        "\n",
        "The snippet below demonstrates calculating the LogLoss metric on the Pima "
      ]
    },
    {
      "cell_type": "markdown",
      "metadata": {
        "id": "FLOj74taxrUG"
      },
      "source": [
        "**5. Evaluate Some Algorithms**\n",
        "\n",
        "Now it is time to create some models of the data and estimate their accuracy on unseen data.\n",
        "\n",
        "Here is what we are going to cover in this step:\n",
        "\n",
        "1. Separate out a validation dataset.\n",
        "2. Set-up the test harness to use 10-fold cross validation.\n",
        "3. Build multiple different models to predict species from flower measurements\n",
        "4. Select the best model."
      ]
    },
    {
      "cell_type": "markdown",
      "metadata": {
        "id": "-_RMlcp9348d"
      },
      "source": [
        "**Logistic Regression Evaluation**"
      ]
    },
    {
      "cell_type": "code",
      "metadata": {
        "id": "Yf0aWqiR2kZu"
      },
      "source": [
        "from sklearn.metrics import confusion_matrix, accuracy_score, precision_score, recall_score\n",
        "    \n",
        "def evaluating_model(y_test, y_pred):  \n",
        "    ''' \n",
        "    Function for evaluating our models.\n",
        "    '''\n",
        "    print(\"Accuracy Score:- \", accuracy_score(y_test, y_pred)) \n",
        "    print(\"Precision Score:- \", precision_score(y_test, y_pred)) \n",
        "    print(\"Recall Score:- \", recall_score(y_test, y_pred)) \n",
        "    print(\"Confusion Matrix:- \\n\", confusion_matrix(y_test, y_pred))"
      ],
      "execution_count": null,
      "outputs": []
    },
    {
      "cell_type": "code",
      "metadata": {
        "id": "SoKzl2jx0VbE"
      },
      "source": [
        "# Split-out validation dataset\n",
        "X_train, X_test, y_train, y_test = train_test_split(X, y, test_size=0.20, random_state=1)"
      ],
      "execution_count": null,
      "outputs": []
    },
    {
      "cell_type": "code",
      "metadata": {
        "id": "ZQ0jm0Zn25ul"
      },
      "source": [
        "# building logistic regression model as a baseline model \n",
        "\n",
        "from sklearn.linear_model import LogisticRegression \n",
        "\n",
        "lr_clf = LogisticRegression(max_iter=1000) \n",
        "lr_clf.fit(X_train, y_train) \n",
        "\n",
        "lr_clf_pred = lr_clf.predict(X_test) "
      ],
      "execution_count": null,
      "outputs": []
    },
    {
      "cell_type": "code",
      "metadata": {
        "colab": {
          "base_uri": "https://localhost:8080/"
        },
        "id": "R9gX-zTO3wk-",
        "outputId": "13119626-a2f3-4831-aaa2-ec098752d6a5"
      },
      "source": [
        "y_pred = lr_clf.predict(X_test)\n",
        "evaluating_model(y_test, y_pred)"
      ],
      "execution_count": null,
      "outputs": [
        {
          "output_type": "stream",
          "name": "stdout",
          "text": [
            "Accuracy Score:-  0.76\n",
            "Precision Score:-  0.7777777777777778\n",
            "Recall Score:-  0.17073170731707318\n",
            "Confusion Matrix:- \n",
            " [[107   2]\n",
            " [ 34   7]]\n"
          ]
        }
      ]
    },
    {
      "cell_type": "code",
      "metadata": {
        "id": "_K-1XxBv45bY"
      },
      "source": [
        "'''\n",
        "# building logistic regression with StandardScaler  \n",
        "\n",
        "from sklearn.pipeline import make_pipeline\n",
        "from sklearn.preprocessing import StandardScaler\n",
        "\n",
        "lr_clf_pip = make_pipeline(StandardScaler(), LogisticRegression()) \n",
        "lr_clf_pip.fit(X_train, y_train) \n",
        "\n",
        "y_pred1 = lr_clf_pip.predict(X_test)\n",
        "evaluating_model(y_test,y_pred1)\n",
        "'''"
      ],
      "execution_count": null,
      "outputs": []
    },
    {
      "cell_type": "markdown",
      "metadata": {
        "id": "7K5Y13sr5mVd"
      },
      "source": [
        "**SVC Evaluation**"
      ]
    },
    {
      "cell_type": "code",
      "metadata": {
        "colab": {
          "base_uri": "https://localhost:8080/"
        },
        "id": "0ENtdCw75Jlp",
        "outputId": "8fa12c01-94b8-4c8c-b0c9-2af41e6489ca"
      },
      "source": [
        "\n",
        "from sklearn.svm import SVC \n",
        "from sklearn.model_selection import GridSearchCV \n",
        "\n",
        "# defining parameter range\n",
        "param_grid = {'C': [0.1, 1, 10, 100, 1000], \n",
        "              'gamma': [1, 0.1, 0.01, 0.001, 0.0001],\n",
        "              'kernel': ['rbf']} \n",
        "grid = GridSearchCV(SVC(), param_grid, refit=True, verbose =3) \n",
        "grid.fit(X_train, y_train)"
      ],
      "execution_count": 94,
      "outputs": [
        {
          "output_type": "stream",
          "name": "stdout",
          "text": [
            "Fitting 5 folds for each of 25 candidates, totalling 125 fits\n",
            "[CV] C=0.1, gamma=1, kernel=rbf ......................................\n",
            "[CV] .......... C=0.1, gamma=1, kernel=rbf, score=0.775, total=   0.0s\n",
            "[CV] C=0.1, gamma=1, kernel=rbf ......................................\n",
            "[CV] .......... C=0.1, gamma=1, kernel=rbf, score=0.767, total=   0.0s\n",
            "[CV] C=0.1, gamma=1, kernel=rbf ......................................\n",
            "[CV] .......... C=0.1, gamma=1, kernel=rbf, score=0.767, total=   0.0s\n",
            "[CV] C=0.1, gamma=1, kernel=rbf ......................................\n",
            "[CV] .......... C=0.1, gamma=1, kernel=rbf, score=0.773, total=   0.0s\n",
            "[CV] C=0.1, gamma=1, kernel=rbf ......................................\n",
            "[CV] .......... C=0.1, gamma=1, kernel=rbf, score=0.773, total=   0.0s\n",
            "[CV] C=0.1, gamma=0.1, kernel=rbf ....................................\n",
            "[CV] ........ C=0.1, gamma=0.1, kernel=rbf, score=0.775, total=   0.0s\n",
            "[CV] C=0.1, gamma=0.1, kernel=rbf ....................................\n",
            "[CV] ........ C=0.1, gamma=0.1, kernel=rbf, score=0.767, total=   0.0s\n",
            "[CV] C=0.1, gamma=0.1, kernel=rbf ....................................\n",
            "[CV] ........ C=0.1, gamma=0.1, kernel=rbf, score=0.767, total=   0.0s\n",
            "[CV] C=0.1, gamma=0.1, kernel=rbf ....................................\n",
            "[CV] ........ C=0.1, gamma=0.1, kernel=rbf, score=0.773, total=   0.0s\n",
            "[CV] C=0.1, gamma=0.1, kernel=rbf ....................................\n",
            "[CV] ........ C=0.1, gamma=0.1, kernel=rbf, score=0.773, total=   0.0s\n",
            "[CV] C=0.1, gamma=0.01, kernel=rbf ...................................\n",
            "[CV] ....... C=0.1, gamma=0.01, kernel=rbf, score=0.775, total=   0.0s\n",
            "[CV] C=0.1, gamma=0.01, kernel=rbf ...................................\n",
            "[CV] ....... C=0.1, gamma=0.01, kernel=rbf, score=0.767, total=   0.0s\n",
            "[CV] C=0.1, gamma=0.01, kernel=rbf ...................................\n",
            "[CV] ....... C=0.1, gamma=0.01, kernel=rbf, score=0.767, total=   0.0s\n",
            "[CV] C=0.1, gamma=0.01, kernel=rbf ...................................\n",
            "[CV] ....... C=0.1, gamma=0.01, kernel=rbf, score=0.773, total=   0.0s\n",
            "[CV] C=0.1, gamma=0.01, kernel=rbf ...................................\n",
            "[CV] ....... C=0.1, gamma=0.01, kernel=rbf, score=0.773, total=   0.0s\n",
            "[CV] C=0.1, gamma=0.001, kernel=rbf ..................................\n",
            "[CV] ...... C=0.1, gamma=0.001, kernel=rbf, score=0.775, total=   0.0s\n",
            "[CV] C=0.1, gamma=0.001, kernel=rbf ..................................\n"
          ]
        },
        {
          "output_type": "stream",
          "name": "stderr",
          "text": [
            "[Parallel(n_jobs=1)]: Using backend SequentialBackend with 1 concurrent workers.\n",
            "[Parallel(n_jobs=1)]: Done   1 out of   1 | elapsed:    0.0s remaining:    0.0s\n",
            "[Parallel(n_jobs=1)]: Done   2 out of   2 | elapsed:    0.0s remaining:    0.0s\n"
          ]
        },
        {
          "output_type": "stream",
          "name": "stdout",
          "text": [
            "[CV] ...... C=0.1, gamma=0.001, kernel=rbf, score=0.767, total=   0.0s\n",
            "[CV] C=0.1, gamma=0.001, kernel=rbf ..................................\n",
            "[CV] ...... C=0.1, gamma=0.001, kernel=rbf, score=0.767, total=   0.0s\n",
            "[CV] C=0.1, gamma=0.001, kernel=rbf ..................................\n",
            "[CV] ...... C=0.1, gamma=0.001, kernel=rbf, score=0.773, total=   0.0s\n",
            "[CV] C=0.1, gamma=0.001, kernel=rbf ..................................\n",
            "[CV] ...... C=0.1, gamma=0.001, kernel=rbf, score=0.773, total=   0.0s\n",
            "[CV] C=0.1, gamma=0.0001, kernel=rbf .................................\n",
            "[CV] ..... C=0.1, gamma=0.0001, kernel=rbf, score=0.775, total=   0.0s\n",
            "[CV] C=0.1, gamma=0.0001, kernel=rbf .................................\n",
            "[CV] ..... C=0.1, gamma=0.0001, kernel=rbf, score=0.767, total=   0.0s\n",
            "[CV] C=0.1, gamma=0.0001, kernel=rbf .................................\n",
            "[CV] ..... C=0.1, gamma=0.0001, kernel=rbf, score=0.767, total=   0.0s\n",
            "[CV] C=0.1, gamma=0.0001, kernel=rbf .................................\n",
            "[CV] ..... C=0.1, gamma=0.0001, kernel=rbf, score=0.773, total=   0.0s\n",
            "[CV] C=0.1, gamma=0.0001, kernel=rbf .................................\n",
            "[CV] ..... C=0.1, gamma=0.0001, kernel=rbf, score=0.773, total=   0.0s\n",
            "[CV] C=1, gamma=1, kernel=rbf ........................................\n",
            "[CV] ............ C=1, gamma=1, kernel=rbf, score=0.758, total=   0.0s\n",
            "[CV] C=1, gamma=1, kernel=rbf ........................................\n",
            "[CV] ............ C=1, gamma=1, kernel=rbf, score=0.775, total=   0.0s\n",
            "[CV] C=1, gamma=1, kernel=rbf ........................................\n",
            "[CV] ............ C=1, gamma=1, kernel=rbf, score=0.767, total=   0.0s\n",
            "[CV] C=1, gamma=1, kernel=rbf ........................................\n",
            "[CV] ............ C=1, gamma=1, kernel=rbf, score=0.773, total=   0.0s\n",
            "[CV] C=1, gamma=1, kernel=rbf ........................................\n",
            "[CV] ............ C=1, gamma=1, kernel=rbf, score=0.765, total=   0.0s\n",
            "[CV] C=1, gamma=0.1, kernel=rbf ......................................\n",
            "[CV] .......... C=1, gamma=0.1, kernel=rbf, score=0.750, total=   0.0s\n",
            "[CV] C=1, gamma=0.1, kernel=rbf ......................................\n",
            "[CV] .......... C=1, gamma=0.1, kernel=rbf, score=0.783, total=   0.0s\n",
            "[CV] C=1, gamma=0.1, kernel=rbf ......................................\n",
            "[CV] .......... C=1, gamma=0.1, kernel=rbf, score=0.758, total=   0.0s\n",
            "[CV] C=1, gamma=0.1, kernel=rbf ......................................\n",
            "[CV] .......... C=1, gamma=0.1, kernel=rbf, score=0.807, total=   0.0s\n",
            "[CV] C=1, gamma=0.1, kernel=rbf ......................................\n",
            "[CV] .......... C=1, gamma=0.1, kernel=rbf, score=0.773, total=   0.0s\n",
            "[CV] C=1, gamma=0.01, kernel=rbf .....................................\n",
            "[CV] ......... C=1, gamma=0.01, kernel=rbf, score=0.783, total=   0.0s\n",
            "[CV] C=1, gamma=0.01, kernel=rbf .....................................\n",
            "[CV] ......... C=1, gamma=0.01, kernel=rbf, score=0.800, total=   0.0s\n",
            "[CV] C=1, gamma=0.01, kernel=rbf .....................................\n",
            "[CV] ......... C=1, gamma=0.01, kernel=rbf, score=0.792, total=   0.0s\n",
            "[CV] C=1, gamma=0.01, kernel=rbf .....................................\n",
            "[CV] ......... C=1, gamma=0.01, kernel=rbf, score=0.798, total=   0.0s\n",
            "[CV] C=1, gamma=0.01, kernel=rbf .....................................\n",
            "[CV] ......... C=1, gamma=0.01, kernel=rbf, score=0.756, total=   0.0s\n",
            "[CV] C=1, gamma=0.001, kernel=rbf ....................................\n",
            "[CV] ........ C=1, gamma=0.001, kernel=rbf, score=0.767, total=   0.0s\n",
            "[CV] C=1, gamma=0.001, kernel=rbf ....................................\n",
            "[CV] ........ C=1, gamma=0.001, kernel=rbf, score=0.767, total=   0.0s\n",
            "[CV] C=1, gamma=0.001, kernel=rbf ....................................\n",
            "[CV] ........ C=1, gamma=0.001, kernel=rbf, score=0.792, total=   0.0s\n",
            "[CV] C=1, gamma=0.001, kernel=rbf ....................................\n",
            "[CV] ........ C=1, gamma=0.001, kernel=rbf, score=0.765, total=   0.0s\n",
            "[CV] C=1, gamma=0.001, kernel=rbf ....................................\n",
            "[CV] ........ C=1, gamma=0.001, kernel=rbf, score=0.748, total=   0.0s\n",
            "[CV] C=1, gamma=0.0001, kernel=rbf ...................................\n",
            "[CV] ....... C=1, gamma=0.0001, kernel=rbf, score=0.783, total=   0.0s\n",
            "[CV] C=1, gamma=0.0001, kernel=rbf ...................................\n",
            "[CV] ....... C=1, gamma=0.0001, kernel=rbf, score=0.775, total=   0.0s\n",
            "[CV] C=1, gamma=0.0001, kernel=rbf ...................................\n",
            "[CV] ....... C=1, gamma=0.0001, kernel=rbf, score=0.758, total=   0.0s\n",
            "[CV] C=1, gamma=0.0001, kernel=rbf ...................................\n",
            "[CV] ....... C=1, gamma=0.0001, kernel=rbf, score=0.773, total=   0.0s\n",
            "[CV] C=1, gamma=0.0001, kernel=rbf ...................................\n",
            "[CV] ....... C=1, gamma=0.0001, kernel=rbf, score=0.765, total=   0.0s\n",
            "[CV] C=10, gamma=1, kernel=rbf .......................................\n",
            "[CV] ........... C=10, gamma=1, kernel=rbf, score=0.750, total=   0.0s\n",
            "[CV] C=10, gamma=1, kernel=rbf .......................................\n",
            "[CV] ........... C=10, gamma=1, kernel=rbf, score=0.767, total=   0.0s\n",
            "[CV] C=10, gamma=1, kernel=rbf .......................................\n",
            "[CV] ........... C=10, gamma=1, kernel=rbf, score=0.775, total=   0.0s\n",
            "[CV] C=10, gamma=1, kernel=rbf .......................................\n",
            "[CV] ........... C=10, gamma=1, kernel=rbf, score=0.782, total=   0.0s\n",
            "[CV] C=10, gamma=1, kernel=rbf .......................................\n",
            "[CV] ........... C=10, gamma=1, kernel=rbf, score=0.782, total=   0.0s\n",
            "[CV] C=10, gamma=0.1, kernel=rbf .....................................\n",
            "[CV] ......... C=10, gamma=0.1, kernel=rbf, score=0.733, total=   0.0s\n",
            "[CV] C=10, gamma=0.1, kernel=rbf .....................................\n",
            "[CV] ......... C=10, gamma=0.1, kernel=rbf, score=0.783, total=   0.0s\n",
            "[CV] C=10, gamma=0.1, kernel=rbf .....................................\n",
            "[CV] ......... C=10, gamma=0.1, kernel=rbf, score=0.742, total=   0.0s\n",
            "[CV] C=10, gamma=0.1, kernel=rbf .....................................\n",
            "[CV] ......... C=10, gamma=0.1, kernel=rbf, score=0.790, total=   0.0s\n",
            "[CV] C=10, gamma=0.1, kernel=rbf .....................................\n",
            "[CV] ......... C=10, gamma=0.1, kernel=rbf, score=0.731, total=   0.0s\n",
            "[CV] C=10, gamma=0.01, kernel=rbf ....................................\n",
            "[CV] ........ C=10, gamma=0.01, kernel=rbf, score=0.725, total=   0.0s\n",
            "[CV] C=10, gamma=0.01, kernel=rbf ....................................\n",
            "[CV] ........ C=10, gamma=0.01, kernel=rbf, score=0.783, total=   0.0s\n",
            "[CV] C=10, gamma=0.01, kernel=rbf ....................................\n",
            "[CV] ........ C=10, gamma=0.01, kernel=rbf, score=0.775, total=   0.0s\n",
            "[CV] C=10, gamma=0.01, kernel=rbf ....................................\n",
            "[CV] ........ C=10, gamma=0.01, kernel=rbf, score=0.739, total=   0.0s\n",
            "[CV] C=10, gamma=0.01, kernel=rbf ....................................\n",
            "[CV] ........ C=10, gamma=0.01, kernel=rbf, score=0.739, total=   0.0s\n",
            "[CV] C=10, gamma=0.001, kernel=rbf ...................................\n",
            "[CV] ....... C=10, gamma=0.001, kernel=rbf, score=0.758, total=   0.0s\n",
            "[CV] C=10, gamma=0.001, kernel=rbf ...................................\n",
            "[CV] ....... C=10, gamma=0.001, kernel=rbf, score=0.808, total=   0.0s\n",
            "[CV] C=10, gamma=0.001, kernel=rbf ...................................\n",
            "[CV] ....... C=10, gamma=0.001, kernel=rbf, score=0.783, total=   0.0s\n",
            "[CV] C=10, gamma=0.001, kernel=rbf ...................................\n",
            "[CV] ....... C=10, gamma=0.001, kernel=rbf, score=0.765, total=   0.0s\n",
            "[CV] C=10, gamma=0.001, kernel=rbf ...................................\n",
            "[CV] ....... C=10, gamma=0.001, kernel=rbf, score=0.756, total=   0.0s\n",
            "[CV] C=10, gamma=0.0001, kernel=rbf ..................................\n",
            "[CV] ...... C=10, gamma=0.0001, kernel=rbf, score=0.767, total=   0.0s\n",
            "[CV] C=10, gamma=0.0001, kernel=rbf ..................................\n",
            "[CV] ...... C=10, gamma=0.0001, kernel=rbf, score=0.775, total=   0.0s\n",
            "[CV] C=10, gamma=0.0001, kernel=rbf ..................................\n",
            "[CV] ...... C=10, gamma=0.0001, kernel=rbf, score=0.775, total=   0.0s\n",
            "[CV] C=10, gamma=0.0001, kernel=rbf ..................................\n",
            "[CV] ...... C=10, gamma=0.0001, kernel=rbf, score=0.739, total=   0.0s\n",
            "[CV] C=10, gamma=0.0001, kernel=rbf ..................................\n",
            "[CV] ...... C=10, gamma=0.0001, kernel=rbf, score=0.756, total=   0.0s\n",
            "[CV] C=100, gamma=1, kernel=rbf ......................................\n",
            "[CV] .......... C=100, gamma=1, kernel=rbf, score=0.750, total=   0.0s\n",
            "[CV] C=100, gamma=1, kernel=rbf ......................................\n",
            "[CV] .......... C=100, gamma=1, kernel=rbf, score=0.767, total=   0.0s\n",
            "[CV] C=100, gamma=1, kernel=rbf ......................................\n",
            "[CV] .......... C=100, gamma=1, kernel=rbf, score=0.775, total=   0.0s\n",
            "[CV] C=100, gamma=1, kernel=rbf ......................................\n",
            "[CV] .......... C=100, gamma=1, kernel=rbf, score=0.782, total=   0.0s\n",
            "[CV] C=100, gamma=1, kernel=rbf ......................................\n",
            "[CV] .......... C=100, gamma=1, kernel=rbf, score=0.782, total=   0.0s\n",
            "[CV] C=100, gamma=0.1, kernel=rbf ....................................\n",
            "[CV] ........ C=100, gamma=0.1, kernel=rbf, score=0.733, total=   0.0s\n",
            "[CV] C=100, gamma=0.1, kernel=rbf ....................................\n",
            "[CV] ........ C=100, gamma=0.1, kernel=rbf, score=0.775, total=   0.0s\n",
            "[CV] C=100, gamma=0.1, kernel=rbf ....................................\n",
            "[CV] ........ C=100, gamma=0.1, kernel=rbf, score=0.750, total=   0.0s\n",
            "[CV] C=100, gamma=0.1, kernel=rbf ....................................\n",
            "[CV] ........ C=100, gamma=0.1, kernel=rbf, score=0.790, total=   0.0s\n",
            "[CV] C=100, gamma=0.1, kernel=rbf ....................................\n",
            "[CV] ........ C=100, gamma=0.1, kernel=rbf, score=0.731, total=   0.0s\n",
            "[CV] C=100, gamma=0.01, kernel=rbf ...................................\n",
            "[CV] ....... C=100, gamma=0.01, kernel=rbf, score=0.708, total=   0.0s\n",
            "[CV] C=100, gamma=0.01, kernel=rbf ...................................\n",
            "[CV] ....... C=100, gamma=0.01, kernel=rbf, score=0.783, total=   0.0s\n",
            "[CV] C=100, gamma=0.01, kernel=rbf ...................................\n",
            "[CV] ....... C=100, gamma=0.01, kernel=rbf, score=0.767, total=   0.0s\n",
            "[CV] C=100, gamma=0.01, kernel=rbf ...................................\n",
            "[CV] ....... C=100, gamma=0.01, kernel=rbf, score=0.714, total=   0.0s\n",
            "[CV] C=100, gamma=0.01, kernel=rbf ...................................\n",
            "[CV] ....... C=100, gamma=0.01, kernel=rbf, score=0.706, total=   0.0s\n",
            "[CV] C=100, gamma=0.001, kernel=rbf ..................................\n",
            "[CV] ...... C=100, gamma=0.001, kernel=rbf, score=0.758, total=   0.0s\n",
            "[CV] C=100, gamma=0.001, kernel=rbf ..................................\n",
            "[CV] ...... C=100, gamma=0.001, kernel=rbf, score=0.800, total=   0.0s\n",
            "[CV] C=100, gamma=0.001, kernel=rbf ..................................\n",
            "[CV] ...... C=100, gamma=0.001, kernel=rbf, score=0.775, total=   0.0s\n",
            "[CV] C=100, gamma=0.001, kernel=rbf ..................................\n",
            "[CV] ...... C=100, gamma=0.001, kernel=rbf, score=0.765, total=   0.0s\n",
            "[CV] C=100, gamma=0.001, kernel=rbf ..................................\n",
            "[CV] ...... C=100, gamma=0.001, kernel=rbf, score=0.731, total=   0.0s\n",
            "[CV] C=100, gamma=0.0001, kernel=rbf .................................\n",
            "[CV] ..... C=100, gamma=0.0001, kernel=rbf, score=0.767, total=   0.0s\n",
            "[CV] C=100, gamma=0.0001, kernel=rbf .................................\n",
            "[CV] ..... C=100, gamma=0.0001, kernel=rbf, score=0.800, total=   0.0s\n",
            "[CV] C=100, gamma=0.0001, kernel=rbf .................................\n",
            "[CV] ..... C=100, gamma=0.0001, kernel=rbf, score=0.800, total=   0.0s\n",
            "[CV] C=100, gamma=0.0001, kernel=rbf .................................\n",
            "[CV] ..... C=100, gamma=0.0001, kernel=rbf, score=0.731, total=   0.0s\n",
            "[CV] C=100, gamma=0.0001, kernel=rbf .................................\n",
            "[CV] ..... C=100, gamma=0.0001, kernel=rbf, score=0.748, total=   0.0s\n",
            "[CV] C=1000, gamma=1, kernel=rbf .....................................\n",
            "[CV] ......... C=1000, gamma=1, kernel=rbf, score=0.750, total=   0.0s\n",
            "[CV] C=1000, gamma=1, kernel=rbf .....................................\n",
            "[CV] ......... C=1000, gamma=1, kernel=rbf, score=0.767, total=   0.0s\n",
            "[CV] C=1000, gamma=1, kernel=rbf .....................................\n",
            "[CV] ......... C=1000, gamma=1, kernel=rbf, score=0.775, total=   0.0s\n",
            "[CV] C=1000, gamma=1, kernel=rbf .....................................\n",
            "[CV] ......... C=1000, gamma=1, kernel=rbf, score=0.782, total=   0.0s\n",
            "[CV] C=1000, gamma=1, kernel=rbf .....................................\n",
            "[CV] ......... C=1000, gamma=1, kernel=rbf, score=0.782, total=   0.0s\n",
            "[CV] C=1000, gamma=0.1, kernel=rbf ...................................\n",
            "[CV] ....... C=1000, gamma=0.1, kernel=rbf, score=0.733, total=   0.0s\n",
            "[CV] C=1000, gamma=0.1, kernel=rbf ...................................\n",
            "[CV] ....... C=1000, gamma=0.1, kernel=rbf, score=0.775, total=   0.0s\n",
            "[CV] C=1000, gamma=0.1, kernel=rbf ...................................\n",
            "[CV] ....... C=1000, gamma=0.1, kernel=rbf, score=0.750, total=   0.0s\n",
            "[CV] C=1000, gamma=0.1, kernel=rbf ...................................\n",
            "[CV] ....... C=1000, gamma=0.1, kernel=rbf, score=0.790, total=   0.0s\n",
            "[CV] C=1000, gamma=0.1, kernel=rbf ...................................\n",
            "[CV] ....... C=1000, gamma=0.1, kernel=rbf, score=0.731, total=   0.0s\n",
            "[CV] C=1000, gamma=0.01, kernel=rbf ..................................\n",
            "[CV] ...... C=1000, gamma=0.01, kernel=rbf, score=0.708, total=   0.0s\n",
            "[CV] C=1000, gamma=0.01, kernel=rbf ..................................\n",
            "[CV] ...... C=1000, gamma=0.01, kernel=rbf, score=0.775, total=   0.0s\n",
            "[CV] C=1000, gamma=0.01, kernel=rbf ..................................\n",
            "[CV] ...... C=1000, gamma=0.01, kernel=rbf, score=0.742, total=   0.0s\n",
            "[CV] C=1000, gamma=0.01, kernel=rbf ..................................\n",
            "[CV] ...... C=1000, gamma=0.01, kernel=rbf, score=0.723, total=   0.0s\n",
            "[CV] C=1000, gamma=0.01, kernel=rbf ..................................\n",
            "[CV] ...... C=1000, gamma=0.01, kernel=rbf, score=0.714, total=   0.0s\n",
            "[CV] C=1000, gamma=0.001, kernel=rbf .................................\n",
            "[CV] ..... C=1000, gamma=0.001, kernel=rbf, score=0.775, total=   0.1s\n",
            "[CV] C=1000, gamma=0.001, kernel=rbf .................................\n",
            "[CV] ..... C=1000, gamma=0.001, kernel=rbf, score=0.800, total=   0.0s\n",
            "[CV] C=1000, gamma=0.001, kernel=rbf .................................\n",
            "[CV] ..... C=1000, gamma=0.001, kernel=rbf, score=0.758, total=   0.1s\n",
            "[CV] C=1000, gamma=0.001, kernel=rbf .................................\n",
            "[CV] ..... C=1000, gamma=0.001, kernel=rbf, score=0.739, total=   0.0s\n",
            "[CV] C=1000, gamma=0.001, kernel=rbf .................................\n",
            "[CV] ..... C=1000, gamma=0.001, kernel=rbf, score=0.706, total=   0.1s\n",
            "[CV] C=1000, gamma=0.0001, kernel=rbf ................................\n",
            "[CV] .... C=1000, gamma=0.0001, kernel=rbf, score=0.767, total=   0.0s\n",
            "[CV] C=1000, gamma=0.0001, kernel=rbf ................................\n",
            "[CV] .... C=1000, gamma=0.0001, kernel=rbf, score=0.783, total=   0.1s\n",
            "[CV] C=1000, gamma=0.0001, kernel=rbf ................................\n",
            "[CV] .... C=1000, gamma=0.0001, kernel=rbf, score=0.792, total=   0.0s\n",
            "[CV] C=1000, gamma=0.0001, kernel=rbf ................................\n",
            "[CV] .... C=1000, gamma=0.0001, kernel=rbf, score=0.782, total=   0.0s\n",
            "[CV] C=1000, gamma=0.0001, kernel=rbf ................................\n",
            "[CV] .... C=1000, gamma=0.0001, kernel=rbf, score=0.748, total=   0.1s\n"
          ]
        },
        {
          "output_type": "stream",
          "name": "stderr",
          "text": [
            "[Parallel(n_jobs=1)]: Done 125 out of 125 | elapsed:    2.0s finished\n"
          ]
        },
        {
          "output_type": "execute_result",
          "data": {
            "text/plain": [
              "GridSearchCV(cv=None, error_score=nan,\n",
              "             estimator=SVC(C=1.0, break_ties=False, cache_size=200,\n",
              "                           class_weight=None, coef0=0.0,\n",
              "                           decision_function_shape='ovr', degree=3,\n",
              "                           gamma='scale', kernel='rbf', max_iter=-1,\n",
              "                           probability=False, random_state=None, shrinking=True,\n",
              "                           tol=0.001, verbose=False),\n",
              "             iid='deprecated', n_jobs=None,\n",
              "             param_grid={'C': [0.1, 1, 10, 100, 1000],\n",
              "                         'gamma': [1, 0.1, 0.01, 0.001, 0.0001],\n",
              "                         'kernel': ['rbf']},\n",
              "             pre_dispatch='2*n_jobs', refit=True, return_train_score=False,\n",
              "             scoring=None, verbose=3)"
            ]
          },
          "metadata": {},
          "execution_count": 94
        }
      ]
    },
    {
      "cell_type": "code",
      "metadata": {
        "colab": {
          "base_uri": "https://localhost:8080/"
        },
        "id": "16CBy1aW5T0f",
        "outputId": "673ceb98-c1f9-496b-d210-5b1ad7a56805"
      },
      "source": [
        "grid.best_estimator_"
      ],
      "execution_count": 95,
      "outputs": [
        {
          "output_type": "execute_result",
          "data": {
            "text/plain": [
              "SVC(C=1, break_ties=False, cache_size=200, class_weight=None, coef0=0.0,\n",
              "    decision_function_shape='ovr', degree=3, gamma=0.01, kernel='rbf',\n",
              "    max_iter=-1, probability=False, random_state=None, shrinking=True,\n",
              "    tol=0.001, verbose=False)"
            ]
          },
          "metadata": {},
          "execution_count": 95
        }
      ]
    },
    {
      "cell_type": "code",
      "metadata": {
        "colab": {
          "base_uri": "https://localhost:8080/"
        },
        "id": "E10owhdH5zbA",
        "outputId": "63904578-b20e-40c8-e69d-4e1c7a0b01ad"
      },
      "source": [
        "svc = SVC(C=1, break_ties=False, cache_size=200, class_weight=None, coef0=0.0,\n",
        "    decision_function_shape='ovr', degree=3, gamma=0.01, kernel='rbf',\n",
        "    max_iter=-1, probability=False, random_state=None, shrinking=True,\n",
        "    tol=0.001, verbose=False) \n",
        "svc.fit(X_train, y_train) \n",
        "y_pred2 = svc.predict(X_test) \n",
        "evaluating_model(y_test, y_pred2)"
      ],
      "execution_count": 96,
      "outputs": [
        {
          "output_type": "stream",
          "name": "stdout",
          "text": [
            "Accuracy Score:-  0.7466666666666667\n",
            "Precision Score:-  0.5789473684210527\n",
            "Recall Score:-  0.2682926829268293\n",
            "Confusion Matrix:- \n",
            " [[101   8]\n",
            " [ 30  11]]\n"
          ]
        }
      ]
    },
    {
      "cell_type": "markdown",
      "metadata": {
        "id": "LmfWteub8tfv"
      },
      "source": [
        "**Decision Tree Evaluation**"
      ]
    },
    {
      "cell_type": "code",
      "metadata": {
        "colab": {
          "base_uri": "https://localhost:8080/"
        },
        "id": "DftkB7fP8ODG",
        "outputId": "a9a59dc8-d259-4e11-9d8c-a77066283639"
      },
      "source": [
        "from sklearn.tree import DecisionTreeClassifier\n",
        "from sklearn.model_selection import RandomizedSearchCV \n",
        "\n",
        "def randomized_search(params, runs=20, clf=DecisionTreeClassifier(random_state=2)): \n",
        "    rand_clf = RandomizedSearchCV(clf, params, n_iter=runs, cv=5, n_jobs=-1, random_state=2) \n",
        "    rand_clf.fit(X_train, y_train) \n",
        "    best_model = rand_clf.best_estimator_\n",
        "    best_score = rand_clf.best_score_\n",
        "\n",
        "    print(\"Training score: {:.3f}\".format(best_score))\n",
        "    y_pred = best_model.predict(X_test)\n",
        "    accuracy = accuracy_score(y_test, y_pred)\n",
        "    print('Test score: {:.3f}'.format(accuracy))\n",
        "    \n",
        "    return best_model\n",
        "\n",
        "randomized_search(params={'criterion':['entropy', 'gini'],\n",
        "                              'splitter':['random', 'best'],\n",
        "                          'min_weight_fraction_leaf':[0.0, 0.0025, 0.005, 0.0075, 0.01],\n",
        "                          'min_samples_split':[2, 3, 4, 5, 6, 8, 10],\n",
        "                          'min_samples_leaf':[1, 0.01, 0.02, 0.03, 0.04],\n",
        "                          'min_impurity_decrease':[0.0, 0.0005, 0.005, 0.05, 0.10, 0.15, 0.2],\n",
        "                          'max_leaf_nodes':[10, 15, 20, 25, 30, 35, 40, 45, 50, None],\n",
        "                          'max_features':['auto', 0.95, 0.90, 0.85, 0.80, 0.75, 0.70],\n",
        "                          'max_depth':[None, 2,4,6,8],\n",
        "                          'min_weight_fraction_leaf':[0.0, 0.0025, 0.005, 0.0075, 0.01, 0.05]\n",
        "                         })"
      ],
      "execution_count": 75,
      "outputs": [
        {
          "output_type": "stream",
          "name": "stdout",
          "text": [
            "Training score: 0.783\n",
            "Test score: 0.780\n"
          ]
        },
        {
          "output_type": "execute_result",
          "data": {
            "text/plain": [
              "DecisionTreeClassifier(ccp_alpha=0.0, class_weight=None, criterion='entropy',\n",
              "                       max_depth=8, max_features=0.8, max_leaf_nodes=45,\n",
              "                       min_impurity_decrease=0.0, min_impurity_split=None,\n",
              "                       min_samples_leaf=0.04, min_samples_split=10,\n",
              "                       min_weight_fraction_leaf=0.05, presort='deprecated',\n",
              "                       random_state=2, splitter='best')"
            ]
          },
          "metadata": {},
          "execution_count": 75
        }
      ]
    },
    {
      "cell_type": "code",
      "metadata": {
        "colab": {
          "base_uri": "https://localhost:8080/"
        },
        "id": "xMDjbLs78WS9",
        "outputId": "ca14c48e-3f88-409f-d918-09c938705f2b"
      },
      "source": [
        "ds_clf = DecisionTreeClassifier(ccp_alpha=0.0, class_weight=None, criterion='entropy',\n",
        "                       max_depth=8, max_features=0.8, max_leaf_nodes=45,\n",
        "                       min_impurity_decrease=0.0, min_impurity_split=None,\n",
        "                       min_samples_leaf=0.04, min_samples_split=10,\n",
        "                       min_weight_fraction_leaf=0.05, presort='deprecated',\n",
        "                       random_state=2, splitter='best') \n",
        "ds_clf.fit(X_train, y_train) \n",
        "pred4 = ds_clf.predict(X_test) \n",
        "evaluating_model(y_test, pred4)"
      ],
      "execution_count": 77,
      "outputs": [
        {
          "output_type": "stream",
          "name": "stdout",
          "text": [
            "Accuracy Score:-  0.78\n",
            "Precision Score:-  0.7222222222222222\n",
            "Recall Score:-  0.3170731707317073\n",
            "Confusion Matrix:- \n",
            " [[104   5]\n",
            " [ 28  13]]\n"
          ]
        }
      ]
    },
    {
      "cell_type": "markdown",
      "metadata": {
        "id": "SSgVsdvj8-5U"
      },
      "source": [
        "**RandomForest Evaluation**"
      ]
    },
    {
      "cell_type": "code",
      "metadata": {
        "colab": {
          "base_uri": "https://localhost:8080/"
        },
        "id": "whmNTA9R89_W",
        "outputId": "638b7d3f-7e70-4b0a-8323-c4c1b515c229"
      },
      "source": [
        "from sklearn.ensemble import RandomForestClassifier \n",
        "\n",
        "randomized_search(params={\n",
        "                         'min_samples_leaf':[1,2,4,6,8,10,20,30],\n",
        "                          'min_impurity_decrease':[0.0, 0.01, 0.05, 0.10, 0.15, 0.2],\n",
        "                          'max_features':['auto', 0.8, 0.7, 0.6, 0.5, 0.4],\n",
        "                          'max_depth':[None,2,4,6,8,10,20], \n",
        "                         }, clf=RandomForestClassifier(random_state=2))\n"
      ],
      "execution_count": 100,
      "outputs": [
        {
          "output_type": "stream",
          "name": "stdout",
          "text": [
            "Training score: 0.779\n",
            "Test score: 0.807\n"
          ]
        },
        {
          "output_type": "execute_result",
          "data": {
            "text/plain": [
              "RandomForestClassifier(bootstrap=True, ccp_alpha=0.0, class_weight=None,\n",
              "                       criterion='gini', max_depth=4, max_features=0.7,\n",
              "                       max_leaf_nodes=None, max_samples=None,\n",
              "                       min_impurity_decrease=0.0, min_impurity_split=None,\n",
              "                       min_samples_leaf=4, min_samples_split=2,\n",
              "                       min_weight_fraction_leaf=0.0, n_estimators=100,\n",
              "                       n_jobs=None, oob_score=False, random_state=2, verbose=0,\n",
              "                       warm_start=False)"
            ]
          },
          "metadata": {},
          "execution_count": 100
        }
      ]
    },
    {
      "cell_type": "code",
      "metadata": {
        "colab": {
          "base_uri": "https://localhost:8080/"
        },
        "id": "BbJF2iR69Lw1",
        "outputId": "efde8463-b272-4a6f-e242-4a016e0cd0a2"
      },
      "source": [
        "rf_clf = RandomForestClassifier(bootstrap=True, ccp_alpha=0.0, class_weight=None,\n",
        "                       criterion='gini', max_depth=4, max_features=0.7,\n",
        "                       max_leaf_nodes=None, max_samples=None,\n",
        "                       min_impurity_decrease=0.0, min_impurity_split=None,\n",
        "                       min_samples_leaf=4, min_samples_split=2,\n",
        "                       min_weight_fraction_leaf=0.0, n_estimators=100,\n",
        "                       n_jobs=None, oob_score=False, random_state=2, verbose=0,\n",
        "                       warm_start=False) \n",
        "rf_clf.fit(X_train, y_train)  \n",
        "pred5 = rf_clf.predict(X_test) \n",
        "evaluating_model(y_test, pred5)"
      ],
      "execution_count": 101,
      "outputs": [
        {
          "output_type": "stream",
          "name": "stdout",
          "text": [
            "Accuracy Score:-  0.8066666666666666\n",
            "Precision Score:-  0.7307692307692307\n",
            "Recall Score:-  0.4634146341463415\n",
            "Confusion Matrix:- \n",
            " [[102   7]\n",
            " [ 22  19]]\n"
          ]
        }
      ]
    },
    {
      "cell_type": "markdown",
      "metadata": {
        "id": "XT6ApmEe95n4"
      },
      "source": [
        "**XG Boost Evaluation**"
      ]
    },
    {
      "cell_type": "code",
      "metadata": {
        "colab": {
          "base_uri": "https://localhost:8080/"
        },
        "id": "ctrx4YJF9_4u",
        "outputId": "13865c49-7396-404b-e295-41a073113bbd"
      },
      "source": [
        "from xgboost import XGBClassifier\n",
        "xgb1 = XGBClassifier(colsample_bytree= 1.0,\n",
        " learning_rate = 0.1,\n",
        " max_depth = 4,\n",
        " n_estimators= 400,\n",
        " subsample= 1.0)  \n",
        "\n",
        "eval_set  = [(X_test, y_test)]\n",
        "\n",
        "xgb1.fit(X_train, y_train,early_stopping_rounds=10, eval_metric=\"logloss\",eval_set=eval_set, verbose=True)"
      ],
      "execution_count": 80,
      "outputs": [
        {
          "output_type": "stream",
          "name": "stdout",
          "text": [
            "[0]\tvalidation_0-logloss:0.65557\n",
            "Will train until validation_0-logloss hasn't improved in 10 rounds.\n",
            "[1]\tvalidation_0-logloss:0.624866\n",
            "[2]\tvalidation_0-logloss:0.599306\n",
            "[3]\tvalidation_0-logloss:0.579695\n",
            "[4]\tvalidation_0-logloss:0.563053\n",
            "[5]\tvalidation_0-logloss:0.548438\n",
            "[6]\tvalidation_0-logloss:0.536829\n",
            "[7]\tvalidation_0-logloss:0.52777\n",
            "[8]\tvalidation_0-logloss:0.520912\n",
            "[9]\tvalidation_0-logloss:0.514688\n",
            "[10]\tvalidation_0-logloss:0.507917\n",
            "[11]\tvalidation_0-logloss:0.502403\n",
            "[12]\tvalidation_0-logloss:0.498691\n",
            "[13]\tvalidation_0-logloss:0.495196\n",
            "[14]\tvalidation_0-logloss:0.493646\n",
            "[15]\tvalidation_0-logloss:0.490779\n",
            "[16]\tvalidation_0-logloss:0.489526\n",
            "[17]\tvalidation_0-logloss:0.486132\n",
            "[18]\tvalidation_0-logloss:0.485543\n",
            "[19]\tvalidation_0-logloss:0.485227\n",
            "[20]\tvalidation_0-logloss:0.486304\n",
            "[21]\tvalidation_0-logloss:0.485857\n",
            "[22]\tvalidation_0-logloss:0.486715\n",
            "[23]\tvalidation_0-logloss:0.486446\n",
            "[24]\tvalidation_0-logloss:0.486679\n",
            "[25]\tvalidation_0-logloss:0.487279\n",
            "[26]\tvalidation_0-logloss:0.488482\n",
            "[27]\tvalidation_0-logloss:0.489715\n",
            "[28]\tvalidation_0-logloss:0.490667\n",
            "[29]\tvalidation_0-logloss:0.491505\n",
            "Stopping. Best iteration:\n",
            "[19]\tvalidation_0-logloss:0.485227\n",
            "\n"
          ]
        },
        {
          "output_type": "execute_result",
          "data": {
            "text/plain": [
              "XGBClassifier(base_score=0.5, booster='gbtree', colsample_bylevel=1,\n",
              "              colsample_bynode=1, colsample_bytree=1.0, gamma=0,\n",
              "              learning_rate=0.1, max_delta_step=0, max_depth=4,\n",
              "              min_child_weight=1, missing=None, n_estimators=400, n_jobs=1,\n",
              "              nthread=None, objective='binary:logistic', random_state=0,\n",
              "              reg_alpha=0, reg_lambda=1, scale_pos_weight=1, seed=None,\n",
              "              silent=None, subsample=1.0, verbosity=1)"
            ]
          },
          "metadata": {},
          "execution_count": 80
        }
      ]
    },
    {
      "cell_type": "code",
      "metadata": {
        "colab": {
          "base_uri": "https://localhost:8080/"
        },
        "id": "EzGEET6b-Ohd",
        "outputId": "d5c89f7e-7e63-4bd3-df64-8400b44ff3ea"
      },
      "source": [
        "rf_clf = XGBClassifier(base_score=0.5, booster='gbtree', colsample_bylevel=1,\n",
        "              colsample_bynode=1, colsample_bytree=1.0, gamma=0,\n",
        "              learning_rate=0.1, max_delta_step=0, max_depth=4,\n",
        "              min_child_weight=1, missing=None, n_estimators=400, n_jobs=1,\n",
        "              nthread=None, objective='binary:logistic', random_state=0,\n",
        "              reg_alpha=0, reg_lambda=1, scale_pos_weight=1, seed=None,\n",
        "              silent=None, subsample=1.0, verbosity=1)\n",
        "pred6 = xgb1.predict(X_test) \n",
        "evaluating_model(y_test, pred6)"
      ],
      "execution_count": 82,
      "outputs": [
        {
          "output_type": "stream",
          "name": "stdout",
          "text": [
            "Accuracy Score:-  0.7866666666666666\n",
            "Precision Score:-  0.6551724137931034\n",
            "Recall Score:-  0.4634146341463415\n",
            "Confusion Matrix:- \n",
            " [[99 10]\n",
            " [22 19]]\n"
          ]
        }
      ]
    },
    {
      "cell_type": "code",
      "metadata": {
        "colab": {
          "base_uri": "https://localhost:8080/"
        },
        "id": "APFIkA_m-36n",
        "outputId": "7aa7919b-c5a8-4972-8292-47554cfb1d23"
      },
      "source": [
        "class best_model:\n",
        "    def logistic_regression(self):\n",
        "        y_pred = lr_clf.predict(X_test)\n",
        "        return evaluating_model(y_test, y_pred)\n",
        "    def svc_model(self):\n",
        "        y_pred2 = svc.predict(X_test) \n",
        "        return evaluating_model(y_test, y_pred2)\n",
        "\n",
        "    def decision_tree(self):\n",
        "        pred4 = ds_clf.predict(X_test) \n",
        "        return evaluating_model(y_test, pred4)\n",
        "\n",
        "    def random_forest(self):\n",
        "        pred5 = rf_clf.predict(X_test) \n",
        "        return evaluating_model(y_test, pred5)\n",
        "\n",
        "    def xg_boost(self):\n",
        "        pred6 = xgb1.predict(X_test) \n",
        "        return evaluating_model(y_test, pred6)\n",
        "\n",
        "Best_Model = best_model()\n",
        "Log_Reg = Best_Model.logistic_regression()\n",
        "svc_model = Best_Model.svc_model()\n",
        "dec_tree = Best_Model.decision_tree()\n",
        "ran_Forest = Best_Model.random_forest()\n",
        "xgb = Best_Model.xg_boost()"
      ],
      "execution_count": 103,
      "outputs": [
        {
          "output_type": "stream",
          "name": "stdout",
          "text": [
            "Accuracy Score:-  0.76\n",
            "Precision Score:-  0.7777777777777778\n",
            "Recall Score:-  0.17073170731707318\n",
            "Confusion Matrix:- \n",
            " [[107   2]\n",
            " [ 34   7]]\n",
            "Accuracy Score:-  0.7466666666666667\n",
            "Precision Score:-  0.5789473684210527\n",
            "Recall Score:-  0.2682926829268293\n",
            "Confusion Matrix:- \n",
            " [[101   8]\n",
            " [ 30  11]]\n",
            "Accuracy Score:-  0.78\n",
            "Precision Score:-  0.7222222222222222\n",
            "Recall Score:-  0.3170731707317073\n",
            "Confusion Matrix:- \n",
            " [[104   5]\n",
            " [ 28  13]]\n",
            "Accuracy Score:-  0.8066666666666666\n",
            "Precision Score:-  0.7307692307692307\n",
            "Recall Score:-  0.4634146341463415\n",
            "Confusion Matrix:- \n",
            " [[102   7]\n",
            " [ 22  19]]\n",
            "Accuracy Score:-  0.7866666666666666\n",
            "Precision Score:-  0.6551724137931034\n",
            "Recall Score:-  0.4634146341463415\n",
            "Confusion Matrix:- \n",
            " [[99 10]\n",
            " [22 19]]\n"
          ]
        }
      ]
    },
    {
      "cell_type": "code",
      "metadata": {
        "id": "J-BFRZXrFQ_o"
      },
      "source": [
        "importances = rf_clf.feature_importances_\n",
        "#plt.barh(dataset, rf_clf.feature_importances_)"
      ],
      "execution_count": 115,
      "outputs": []
    },
    {
      "cell_type": "code",
      "metadata": {
        "colab": {
          "base_uri": "https://localhost:8080/",
          "height": 332
        },
        "id": "XlEDGV9CNpMo",
        "outputId": "c751fc85-395b-42e3-ae8c-3be354374fee"
      },
      "source": [
        "indices = np.argsort(importances)\n",
        "\n",
        "fig, ax = plt.subplots()\n",
        "ax.barh(range(len(importances)), importances[indices])\n",
        "\n",
        "ax.set_yticks(range(len(importances)))\n",
        "#_ = ax.set_yticklabels(np.array(X_train.columns)[indices])"
      ],
      "execution_count": 121,
      "outputs": [
        {
          "output_type": "execute_result",
          "data": {
            "text/plain": [
              "[<matplotlib.axis.YTick at 0x7fb4f5a76890>,\n",
              " <matplotlib.axis.YTick at 0x7fb4f5a76a90>,\n",
              " <matplotlib.axis.YTick at 0x7fb4f5aa2d10>,\n",
              " <matplotlib.axis.YTick at 0x7fb4f5a55750>]"
            ]
          },
          "metadata": {},
          "execution_count": 121
        },
        {
          "output_type": "display_data",
          "data": {
            "image/png": "[encoded data removed]",
            "text/plain": [
              "<Figure size 432x288 with 1 Axes>"
            ]
          },
          "metadata": {
            "needs_background": "light"
          }
        }
      ]
    },
    {
      "cell_type": "markdown",
      "metadata": {
        "id": "SJGl1K4Kx3Sm"
      },
      "source": [
        "We will split the loaded dataset into two, 80% of which we will use to train, evaluate and select among our models, and 20% that we will hold back as a validation dataset."
      ]
    },
    {
      "cell_type": "markdown",
      "metadata": {
        "id": "f0QVJaNj0UZE"
      },
      "source": [
        "You now have training data in the X_train and Y_train for preparing models and a X_validation and Y_validation sets that we can use later."
      ]
    },
    {
      "cell_type": "markdown",
      "metadata": {
        "id": "-6-2LYV80N5N"
      },
      "source": [
        "**5.2 Test Harness**\n",
        "\n",
        "We will use stratified 10-fold cross validation to estimate model accuracy.\n",
        "\n",
        "This will split our dataset into 10 parts, train on 9 and test on 1 and repeat for all combinations of train-test splits.\n",
        "\n",
        "Stratified means that each fold or split of the dataset will aim to have the same distribution of example by class as exist in the whole training dataset."
      ]
    },
    {
      "cell_type": "markdown",
      "metadata": {
        "id": "YI4SLgPz1140"
      },
      "source": [
        "**5.3 Build Models**\n",
        "\n",
        "We don’t know which algorithms would be good on this problem or what configurations to use.\n",
        "\n",
        "We get an idea from the plots that some of the classes are partially linearly separable in some dimensions, so we are expecting generally good results.\n",
        "\n",
        "Let’s test 6 different algorithms:\n",
        "\n",
        "1. Logistic Regression (LR)\n",
        "2. Linear Discriminant Analysis (LDA)\n",
        "3. K-Nearest Neighbors (KNN).\n",
        "4. Classification and Regression Trees (CART).\n",
        "5. Gaussian Naive Bayes (NB).\n",
        "6. Support Vector Machines (SVM).\n",
        "\n",
        "This is a good mixture of simple linear (LR and LDA), nonlinear (KNN, CART, NB and SVM) algorithms.\n",
        "\n",
        "Let’s build and evaluate our models:"
      ]
    },
    {
      "cell_type": "code",
      "metadata": {
        "id": "fbpCRIxr2LVk",
        "colab": {
          "base_uri": "https://localhost:8080/",
          "height": 119
        },
        "outputId": "ff4763e9-5ce4-4893-b1b7-ef0027c62d68"
      },
      "source": [
        "'''\n",
        "...\n",
        "# Spot Check Algorithms\n",
        "models = []\n",
        "models.append(('LR', LogisticRegression(solver='liblinear', multi_class='ovr')))\n",
        "models.append(('LDA', LinearDiscriminantAnalysis()))\n",
        "models.append(('KNN', KNeighborsClassifier()))\n",
        "models.append(('CART', DecisionTreeClassifier()))\n",
        "models.append(('NB', GaussianNB()))\n",
        "models.append(('SVM', SVC(gamma='auto')))\n",
        "# evaluate each model in turn\n",
        "results = []\n",
        "names = []\n",
        "for name, model in models:\n",
        "\tkfold = StratifiedKFold(n_splits=10, random_state=1, shuffle=True)\n",
        "\tcv_results = cross_val_score(model, X_train, Y_train, cv=kfold, scoring='accuracy')\n",
        "\tresults.append(cv_results)\n",
        "\tnames.append(name)\n",
        "\tprint('%s: %f (%f)' % (name, cv_results.mean(), cv_results.std()))\n",
        "'''\t"
      ],
      "execution_count": 122,
      "outputs": [
        {
          "output_type": "execute_result",
          "data": {
            "application/vnd.google.colaboratory.intrinsic+json": {
              "type": "string"
            },
            "text/plain": [
              "\"\\n\\n# Spot Check Algorithms\\nmodels = []\\nmodels.append(('LR', LogisticRegression(solver='liblinear', multi_class='ovr')))\\nmodels.append(('LDA', LinearDiscriminantAnalysis()))\\nmodels.append(('KNN', KNeighborsClassifier()))\\nmodels.append(('CART', DecisionTreeClassifier()))\\nmodels.append(('NB', GaussianNB()))\\nmodels.append(('SVM', SVC(gamma='auto')))\\n# evaluate each model in turn\\nresults = []\\nnames = []\\nfor name, model in models:\\n\\tkfold = StratifiedKFold(n_splits=10, random_state=1, shuffle=True)\\n\\tcv_results = cross_val_score(model, X_train, Y_train, cv=kfold, scoring='accuracy')\\n\\tresults.append(cv_results)\\n\\tnames.append(name)\\n\\tprint('%s: %f (%f)' % (name, cv_results.mean(), cv_results.std()))\\n\""
            ]
          },
          "metadata": {},
          "execution_count": 122
        }
      ]
    },
    {
      "cell_type": "markdown",
      "metadata": {
        "id": "zFsJoYKF9-bC"
      },
      "source": [
        ""
      ]
    },
    {
      "cell_type": "markdown",
      "metadata": {
        "id": "MY6fvpYO2RIs"
      },
      "source": [
        "**5.4 Select Best Model**\n",
        "\n",
        "We now have 6 models and accuracy estimations for each. We need to compare the models to each other and select the most accurate.\n",
        "\n",
        "Running the example above, we get the following raw results:"
      ]
    },
    {
      "cell_type": "markdown",
      "metadata": {
        "id": "VPup47V72h08"
      },
      "source": [
        "We can see that it looks like Linear Discriminant Analysis (LDA) has the largest estimated accuracy score at about 77.59% and standard deviation of 0.028\n",
        "\n",
        "We can also create a plot of the model evaluation results and compare the spread and the mean accuracy of each model. There is a population of accuracy measures for each algorithm because each algorithm was evaluated 10 times (via 10 fold-cross validation).\n",
        "\n",
        "A useful way to compare the samples of results for each algorithm is to create a box and whisker plot for each distribution and compare the distributions."
      ]
    },
    {
      "cell_type": "code",
      "metadata": {
        "id": "artNVbVb7dQq",
        "colab": {
          "base_uri": "https://localhost:8080/",
          "height": 281
        },
        "outputId": "d2277e1f-bf22-4619-bf21-ec8d16536de7"
      },
      "source": [
        "...\n",
        "# Compare Algorithms\n",
        "pyplot.boxplot(results, labels=names)\n",
        "pyplot.title('Algorithm Comparison')\n",
        "pyplot.show()"
      ],
      "execution_count": 123,
      "outputs": [
        {
          "output_type": "display_data",
          "data": {
            "image/png": "[encoded data removed]",
            "text/plain": [
              "<Figure size 432x288 with 1 Axes>"
            ]
          },
          "metadata": {
            "needs_background": "light"
          }
        }
      ]
    },
    {
      "cell_type": "markdown",
      "metadata": {
        "id": "Wt-DsPxw7cOr"
      },
      "source": [
        "We can see that the box and whisker plots are squashed at the top of the range, with many evaluations achieving 100% accuracy, and some pushing down into the high 80% accuracies."
      ]
    },
    {
      "cell_type": "markdown",
      "metadata": {
        "id": "QWVAWeYQ77Qq"
      },
      "source": [
        "**5.5 Complete Example**\n",
        "\n",
        "For reference, we can tie all of the previous elements together into a single script.\n",
        "\n",
        "The complete example is listed below."
      ]
    },
    {
      "cell_type": "markdown",
      "metadata": {
        "id": "uQp9w6gU8K7i"
      },
      "source": [
        "**6. Make Predictions**\n",
        "\n",
        "We must choose an algorithm to use to make predictions.\n",
        "\n",
        "The results in the previous section suggest that the SVM was perhaps the most accurate model. We will use this model as our final model.\n",
        "\n",
        "Now we want to get an idea of the accuracy of the model on our validation set.\n",
        "\n",
        "This will give us an independent final check on the accuracy of the best model. It is valuable to keep a validation set just in case you made a slip during training, such as overfitting to the training set or a data leak. Both of these issues will result in an overly optimistic result."
      ]
    },
    {
      "cell_type": "markdown",
      "metadata": {
        "id": "9RTs96SS8UPy"
      },
      "source": [
        "**6.1 Make Predictions**\n",
        "\n",
        "We can fit the model on the entire training dataset and make predictions on the validation dataset."
      ]
    },
    {
      "cell_type": "code",
      "metadata": {
        "id": "L1j3UWnr8ekL"
      },
      "source": [
        "...\n",
        "# Make predictions on validation dataset\n",
        "model = RandomForestClassifier(max_depth=2, random_state=0)\n",
        "model.fit(X_train, Y_train)\n",
        "predictions = model.predict(X_validation)"
      ],
      "execution_count": null,
      "outputs": []
    },
    {
      "cell_type": "markdown",
      "metadata": {
        "id": "6VKLFDj49BXT"
      },
      "source": [
        "**6.2 Evaluate Predictions**\n",
        "\n",
        "We can evaluate the predictions by comparing them to the expected results in the validation set, then calculate classification accuracy, as well as a confusion matrix and a classification report."
      ]
    },
    {
      "cell_type": "code",
      "metadata": {
        "colab": {
          "base_uri": "https://localhost:8080/"
        },
        "id": "5eAIQf3EP6LO",
        "outputId": "f61f7c56-89ac-4a9d-97a7-69eeeb5b4f14"
      },
      "source": [
        "import joblib \n",
        "joblib.dump(rf_clf, 'model.pkl') \n",
        "model = joblib.load('model.pkl' ) \n",
        "model.predict(X_test)"
      ],
      "execution_count": 124,
      "outputs": [
        {
          "output_type": "execute_result",
          "data": {
            "text/plain": [
              "array([0., 1., 0., 0., 0., 0., 0., 1., 0., 1., 0., 0., 0., 0., 0., 0., 0.,\n",
              "       0., 1., 0., 0., 1., 0., 0., 0., 1., 0., 0., 0., 0., 1., 0., 0., 0.,\n",
              "       0., 0., 0., 0., 0., 0., 1., 0., 1., 0., 0., 0., 0., 0., 0., 0., 0.,\n",
              "       0., 0., 0., 0., 0., 0., 0., 0., 0., 0., 1., 0., 1., 0., 0., 1., 0.,\n",
              "       0., 0., 0., 1., 0., 0., 0., 0., 0., 0., 0., 0., 1., 0., 0., 0., 0.,\n",
              "       0., 0., 0., 0., 0., 0., 1., 0., 0., 0., 0., 1., 0., 0., 0., 0., 1.,\n",
              "       0., 0., 0., 0., 1., 0., 0., 0., 1., 0., 0., 0., 0., 1., 0., 0., 0.,\n",
              "       0., 1., 0., 0., 1., 0., 0., 0., 0., 0., 1., 1., 0., 0., 0., 0., 0.,\n",
              "       0., 0., 0., 0., 0., 1., 0., 0., 1., 0., 0., 0., 0., 0.])"
            ]
          },
          "metadata": {},
          "execution_count": 124
        }
      ]
    },
    {
      "cell_type": "markdown",
      "metadata": {
        "id": "KLrZ1jfr91UC"
      },
      "source": [
        "We can see that the accuracy is 0.966 or about 96% on the hold out dataset.\n",
        "\n",
        "The confusion matrix provides an indication of the errors made.\n",
        "\n",
        "Finally, the classification report provides a breakdown of each class by precision, recall, f1-score and support showing excellent results (granted the validation dataset was small)."
      ]
    }
  ]
}